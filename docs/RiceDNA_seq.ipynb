{
 "cells": [
  {
   "cell_type": "markdown",
   "id": "74c4b207-abc9-402b-b539-1d7903f2e621",
   "metadata": {
    "editable": true,
    "slideshow": {
     "slide_type": "slide"
    },
    "tags": []
   },
   "source": [
    "# Presentacion y workshop para analysar DNA-seq nanopore de Oryza Sativa (Arroz)\n",
    "\n",
    "Data viene de:\n",
    "1. [A super pan-genomic landscape of rice](https://www.nature.com/articles/s41422-022-00685-z)\n",
    "Getting Oxford nanopore data from there\n"
   ]
  },
  {
   "cell_type": "markdown",
   "id": "59b04203-d5ff-41ef-9b42-7adfbbdc0e39",
   "metadata": {
    "editable": true,
    "slideshow": {
     "slide_type": "subslide"
    },
    "tags": []
   },
   "source": [
    "1. Preparar la data\n",
    "2. Aligniar al genoma\n",
    "3. Contar \"reads\" por el genoma\n",
    "4. Visualizar con otra data"
   ]
  },
  {
   "cell_type": "code",
   "execution_count": null,
   "id": "b766f333-2f23-4d8a-9ce1-378e7e0ec7cb",
   "metadata": {
    "editable": true,
    "slideshow": {
     "slide_type": ""
    },
    "tags": []
   },
   "outputs": [],
   "source": [
    "%%bash\n",
    "SAMPLE_NAME=\"nano_oryza_down\"\n",
    "IN_FOLDER=\"/data/Epigenetics_Workshop/input_data/\"\n",
    "OUT_FOLDER=\"/data/Epigenetics_Workshop/input_data/\"\n",
    "fastp -w 16 -i ${IN_FOLDER}/${SAMPLE_NAME}_r1.fq \\\n",
    "      -o ${OUT_FOLDER}/${SAMPLE_NAME}_r1_filt.fq.gz \\\n",
    "      -h ${OUT_FOLDER}/${SAMPLE_NAME}_filt.html \\\n",
    "      -j ${OUT_FOLDER}/${SAMPLE_NAME}_filt.json "
   ]
  },
  {
   "cell_type": "code",
   "execution_count": null,
   "id": "b670cf20-44cc-4181-977a-f1aa9a77733c",
   "metadata": {
    "editable": true,
    "slideshow": {
     "slide_type": ""
    },
    "tags": []
   },
   "outputs": [],
   "source": [
    "IX_DIR=\"/data/Epigenetics_Workshop/input_data/oryza_sativa_mm2/ref_rename.mmi\"\n",
    "IN_DIR=\"/data/Epigenetics_Workshop/input_data/\"\n",
    "OUT_DIR=\"/data/Epigenetics_Workshop/input_data/\"\n",
    "TEMP_DIR=\"/data/Epigenetics_Workshop/input_data/tmp1\"\n",
    "SAMPLE_NAME=\"SRR15421487\"\n",
    "cd \"${IN_DIR}\"\n",
    "\n",
    "minimap2 -t 16 -ax map-ont \\\n",
    "            ${IX_DIR} \\\n",
    "            ${IN_DIR}/${SAMPLE_NAME}_r1_filt.fq.gz | \\\n",
    "            samtools sort  -T ${TEMP_DIR} -@ 8 - | \\\n",
    "            samtools view -hbS - > ${OUT_DIR}/${SAMPLE_NAME}_oryza_sativa_nanopore_down_mm_cordSorted.bam\n",
    "samtools index ${OUT_DIR}/${SAMPLE_NAME}_oryza_sativa_nanopore_down_mm_cordSorted.bam\n"
   ]
  },
  {
   "cell_type": "code",
   "execution_count": null,
   "id": "9d62fdfc-88fa-43bd-bd1a-3ff0b2ce620e",
   "metadata": {
    "editable": true,
    "slideshow": {
     "slide_type": ""
    },
    "tags": []
   },
   "outputs": [],
   "source": []
  }
 ],
 "metadata": {
  "kernelspec": {
   "display_name": "Python 3 (ipykernel)",
   "language": "python",
   "name": "python3"
  },
  "language_info": {
   "codemirror_mode": {
    "name": "ipython",
    "version": 3
   },
   "file_extension": ".py",
   "mimetype": "text/x-python",
   "name": "python",
   "nbconvert_exporter": "python",
   "pygments_lexer": "ipython3",
   "version": "3.12.3"
  }
 },
 "nbformat": 4,
 "nbformat_minor": 5
}
