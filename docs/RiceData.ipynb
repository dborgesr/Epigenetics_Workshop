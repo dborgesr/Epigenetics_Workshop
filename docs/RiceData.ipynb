{
 "cells": [
  {
   "cell_type": "markdown",
   "id": "f854b9da-52e1-4634-ad12-6ef971632c21",
   "metadata": {
    "editable": true,
    "slideshow": {
     "slide_type": "slide"
    },
    "tags": []
   },
   "source": [
    "# Get main genome\n",
    "\n",
    "1. [A super pan-genomic landscape of rice](https://www.nature.com/articles/s41422-022-00685-z)\n",
    "Getting Oxford nanopore data from there\n",
    "\n",
    "2. [Comprehensive mapping and modelling of the rice regulome landscape unveils the regulatory architecture underlying complex traits](https://www.nature.com/articles/s41467-024-50787-y)"
   ]
  },
  {
   "cell_type": "code",
   "execution_count": null,
   "id": "acc11f8e-07a8-4b55-9d93-6592f9bf4ce8",
   "metadata": {
    "editable": true,
    "slideshow": {
     "slide_type": "slide"
    },
    "tags": []
   },
   "outputs": [],
   "source": [
    "%%bash\n",
    "# https://www.ncbi.nlm.nih.gov/datasets/genome/GCF_034140825.1/\n",
    "# Grab the genome and gene annotations from NCBI using genome ASM3414082v1\n",
    "wget -O oryza_sativa_genome.fa.gz https://ftp.ncbi.nlm.nih.gov/genomes/all/GCF/034/140/825/GCF_034140825.1_ASM3414082v1/GCF_034140825.1_ASM3414082v1_genomic.fna.gz\n",
    "wget -O oryza_sativa_genes.gff.gz https://ftp.ncbi.nlm.nih.gov/genomes/all/GCF/034/140/825/GCF_034140825.1_ASM3414082v1/GCF_034140825.1_ASM3414082v1_genomic.gff.gz\n",
    "# Also grabbing OLD genome that's compatible w/ the ChipHub\n",
    "wget -O oryza_sativa_genome_IRGSP-1.0.fa.gz https://ftp.ncbi.nlm.nih.gov/genomes/all/GCF/001/433/935/GCF_001433935.1_IRGSP-1.0/GCF_001433935.1_IRGSP-1.0_genomic.fna.gz\n",
    "wget -O oryza_sativa_genes_IRGSP-1.0.gff.gz https://ftp.ncbi.nlm.nih.gov/genomes/all/GCF/001/433/935/GCF_001433935.1_IRGSP-1.0/GCF_001433935.1_IRGSP-1.0_genomic.gtf.gz\n"
   ]
  },
  {
   "cell_type": "code",
   "execution_count": null,
   "id": "1c781150-4b3d-4457-a070-255fd2b25848",
   "metadata": {
    "editable": true,
    "slideshow": {
     "slide_type": "slide"
    },
    "tags": []
   },
   "outputs": [],
   "source": [
    "#Rename ncbi headers because not matching downstream genome in viz\n",
    "seqkit replace -p \".+chromosome \"  oryza_sativa_genome_IRGSP-1.0.fa  | \\\n",
    "    seqkit replace -p \".+Syng\" -r \"Syng\"  \\\n",
    "    | seqkit replace -p \",.+\" \\\n",
    "    | seqkit replace -p \"\\s.+\" > \\\n",
    "    oryza_sativa_genome_IRGSP_rename.fa\n",
    "#Rename GFF3 \n",
    "seqkit replace -p \".+chromosome \"  oryza_sativa_genome_IRGSP-1.0.fa  | \\\n",
    "    seqkit replace -p \".+Syng\" -r \"Syng\"  \\\n",
    "    | seqkit replace -p \",.+\" \\\n",
    "    | seqkit replace -p \"\\s.+\" > \\\n",
    "    oryza_sativa_genome_IRGSP_rename.fa\n",
    "#Get chromosome sizes using pyfaidx\n",
    "faidx oryza_sativa_genome_IRGSP_rename.fa -i chromsizes > oryza_sativa_sizes.genome\n"
   ]
  },
  {
   "cell_type": "code",
   "execution_count": null,
   "id": "1e4bf187-1fff-4516-8c2c-05e1659e5688",
   "metadata": {
    "editable": true,
    "slideshow": {
     "slide_type": "slide"
    },
    "tags": []
   },
   "outputs": [],
   "source": [
    "#make minimap2 ref\n",
    "IN_FOLDER=\"/data/Epigenetics_Workshop/input_data/\"\n",
    "mkdir -p ${IN_FOLDER}/oryza_sativa_mm2\n",
    "minimap2 -d${IN_FOLDER}/oryza_sativa_mm2/ref_rename.mmi \\\n",
    "    ${IN_FOLDER}/oryza_sativa_genome_IRGSP_rename.fa\n"
   ]
  },
  {
   "cell_type": "code",
   "execution_count": null,
   "id": "740836b6-6bec-4022-b9dc-1c46511a8f18",
   "metadata": {
    "editable": true,
    "slideshow": {
     "slide_type": "slide"
    },
    "tags": []
   },
   "outputs": [],
   "source": [
    "# Get oxford nanopore data from 1\n",
    "wget -O SRR15421487_1.fq.gz 'ftp://ftp.sra.ebi.ac.uk/vol1/fastq/SRR154/087/SRR15421487/SRR15421487_1.fastq.gz'\n"
   ]
  },
  {
   "cell_type": "code",
   "execution_count": null,
   "id": "dd10cb95-9fad-4870-88d5-efdbbe55b35c",
   "metadata": {
    "editable": true,
    "slideshow": {
     "slide_type": "slide"
    },
    "tags": []
   },
   "outputs": [],
   "source": [
    "SAMPLE_NAME=\"SRR15421487\"\n",
    "IN_FOLDER=\"/data/Epigenetics_Workshop/input_data/\"\n",
    "OUT_FOLDER=\"/data/Epigenetics_Workshop/input_data/\"\n",
    "fastp -w 16 -i ${IN_FOLDER}/${SAMPLE_NAME}_1.fq.gz \\\n",
    "      -o ${OUT_FOLDER}/${SAMPLE_NAME}_r1_filt.fq.gz \\\n",
    "      -h ${OUT_FOLDER}/${SAMPLE_NAME}_filt.html \\\n",
    "      -j ${OUT_FOLDER}/${SAMPLE_NAME}_filt.json \n"
   ]
  },
  {
   "cell_type": "code",
   "execution_count": null,
   "id": "a9628271-c929-4808-8a6f-a287c5533077",
   "metadata": {
    "editable": true,
    "slideshow": {
     "slide_type": "slide"
    },
    "tags": []
   },
   "outputs": [],
   "source": [
    "IX_DIR=\"/data/Epigenetics_Workshop/input_data/oryza_sativa_mm2/ref_rename.mmi\"\n",
    "IN_DIR=\"/data/Epigenetics_Workshop/input_data/\"\n",
    "OUT_DIR=\"/data/Epigenetics_Workshop/input_data/\"\n",
    "TEMP_DIR=\"/data/Epigenetics_Workshop/input_data/tmp1\"\n",
    "SAMPLE_NAME=\"SRR15421487\"\n",
    "cd \"${IN_DIR}\"\n",
    "\n",
    "minimap2 -t 16 -ax map-ont \\\n",
    "            ${IX_DIR} \\\n",
    "            ${IN_DIR}/${SAMPLE_NAME}_r1_filt.fq.gz | \\\n",
    "            samtools sort  -T ${TEMP_DIR} -@ 8 - | \\\n",
    "            samtools view -hbS - > ${OUT_DIR}/${SAMPLE_NAME}_oryza_sativa_nanopore_mm_cordSorted.bam\n",
    "samtools index ${OUT_DIR}/${SAMPLE_NAME}_oryza_sativa_nanopore_mm_cordSorted.bam\n"
   ]
  },
  {
   "cell_type": "code",
   "execution_count": null,
   "id": "7bedfd00-b9e9-47c3-84b0-40d550bf4451",
   "metadata": {
    "editable": true,
    "slideshow": {
     "slide_type": "slide"
    },
    "tags": []
   },
   "outputs": [],
   "source": [
    "#Downsample based on interesting area for example\n",
    "OUT_DIR=\"/data/Epigenetics_Workshop/input_data/\"\n",
    "SAMPLE_NAME=\"SRR15421487\"\n",
    "samtools view -h -P ${OUT_DIR}/${SAMPLE_NAME}_oryza_sativa_nanopore_mm_cordSorted.bam \"NC_029263.1:26288527-26724196\" | \\\n",
    "    samtools sort -n - | samtools fastq -0 nano_oryza_down_r1.fq\n"
   ]
  },
  {
   "cell_type": "code",
   "execution_count": null,
   "id": "916268d0-97de-4c73-b8f1-9e93c89c92ee",
   "metadata": {
    "editable": true,
    "slideshow": {
     "slide_type": "slide"
    },
    "tags": []
   },
   "outputs": [],
   "source": [
    "bamCoverage -p 16 -b ${OUT_DIR}/${SAMPLE_NAME}_oryza_sativa_nanopore_mm_cordSorted.bam \\\n",
    "            -o ${OUT_DIR}/${SAMPLE_NAME}_oryza_sativa_nanopore_mm.bw"
   ]
  },
  {
   "cell_type": "code",
   "execution_count": null,
   "id": "ce5617a4-2d29-470c-b059-da70f1f65645",
   "metadata": {
    "editable": true,
    "slideshow": {
     "slide_type": "slide"
    },
    "tags": []
   },
   "outputs": [],
   "source": [
    "# get some pistil chromatin accessibility data from 2\n",
    "wget -nc ftp://ftp.sra.ebi.ac.uk/vol1/fastq/SRR236/090/SRR23699890/SRR23699890_1.fastq.gz\n",
    "wget -nc ftp://ftp.sra.ebi.ac.uk/vol1/fastq/SRR236/090/SRR23699890/SRR23699890_2.fastq.gz\n"
   ]
  },
  {
   "cell_type": "code",
   "execution_count": null,
   "id": "7d7423a1-198e-4250-82ae-32482888d32e",
   "metadata": {
    "editable": true,
    "slideshow": {
     "slide_type": "slide"
    },
    "tags": []
   },
   "outputs": [],
   "source": [
    "SAMPLE_NAME=\"SRR23699890\"\n",
    "IN_FOLDER=\"/data/Epigenetics_Workshop/input_data/\"\n",
    "OUT_FOLDER=\"/data/Epigenetics_Workshop/input_data/\"\n",
    "fastp -w 16 -i ${IN_FOLDER}/${SAMPLE_NAME}_1.fastq.gz \\\n",
    "      -I ${IN_FOLDER}/${SAMPLE_NAME}_2.fastq.gz \\\n",
    "      -o ${OUT_FOLDER}/${SAMPLE_NAME}_r1_filt.fq.gz \\\n",
    "      -O ${OUT_FOLDER}/${SAMPLE_NAME}_r2_filt.fq.gz \\\n",
    "      -h ${OUT_FOLDER}/${SAMPLE_NAME}_filt.html \\\n",
    "      -j ${OUT_FOLDER}/${SAMPLE_NAME}_filt.json \\\n",
    "      --detect_adapter_for_pe \n"
   ]
  },
  {
   "cell_type": "code",
   "execution_count": null,
   "id": "3b9bc746-9a11-42e4-a91e-ec03337328b9",
   "metadata": {
    "editable": true,
    "slideshow": {
     "slide_type": ""
    },
    "tags": []
   },
   "outputs": [],
   "source": [
    "#make index\n",
    "IN_FOLDER=\"/data/Epigenetics_Workshop/input_data/\"\n",
    "cd ${IN_FOLDER}\n",
    "chromap -i \\\n",
    "    -r oryza_sativa_genome_IRGSP-1.0.fa \\\n",
    "    -o oryza_sativa_IRGSP_chromap.idx\n"
   ]
  },
  {
   "cell_type": "code",
   "execution_count": null,
   "id": "c6db6c87-94bd-404b-b753-2cdb239c4252",
   "metadata": {},
   "outputs": [],
   "source": [
    "IN_FOLDER=\"/data/Epigenetics_Workshop/input_data/\"\n",
    "IX_MAP=${IN_FOLDER}/\"oryza_sativa_IRGSP_chromap.idx\"\n",
    "SAMPLE_NAME=\"SRR23699890\"\n",
    "\n",
    "cd ${IN_FOLDER}\n",
    "#REFUSED TO WORK !!OIJ@)(!@)( getting basically 0 mapping w/ any settings, gave up used minimap2\n",
    "chromap --preset atac -x ${IX_MAP} -t 8 \\\n",
    "    -r oryza_sativa_genome_IRGSP-1.0.fa \\\n",
    "    -1 ${SAMPLE_NAME}_r1_filt.fq.gz \\\n",
    "    -2 ${SAMPLE_NAME}_r2_filt.fq.gz \\\n",
    "    -o ${SAMPLE_NAME}_oryza_sativa_chromap.bed\n"
   ]
  },
  {
   "cell_type": "code",
   "execution_count": null,
   "id": "10722c6f-331f-4c9e-916d-e88d27e442d7",
   "metadata": {},
   "outputs": [],
   "source": [
    "IX_DIR=\"/data/Epigenetics_Workshop/input_data/oryza_sativa_mm2/ref_rename.mmi\"\n",
    "IN_DIR=\"/data/Epigenetics_Workshop/input_data/\"\n",
    "OUT_DIR=\"/data/Epigenetics_Workshop/input_data/\"\n",
    "TEMP_DIR=\"/data/Epigenetics_Workshop/input_data/tmp\"\n",
    "SAMPLE_NAME=\"SRR23699890\"\n",
    "cd \"${IN_DIR}\"\n",
    "\n",
    "#Map using minimap2 w/ sr params and sort bam for caling peaks\n",
    "minimap2 -t 16 -ax sr \\\n",
    "            ${IX_DIR} \\\n",
    "            ${SAMPLE_NAME}_r1_filt.fq.gz ${SAMPLE_NAME}_r2_filt.fq.gz | \\\n",
    "            samtools sort  -T ${TEMP_DIR} -@ 8 - | \\\n",
    "            samtools view -hbS - > ${SAMPLE_NAME}_oryza_sativa_mm2_sort.bam\n",
    "samtools index ${SAMPLE_NAME}_oryza_sativa_mm2_sort.bam\n",
    "\n",
    "#Make bw for viz\n",
    "bamCoverage --Offset 5 -1 -b ${SAMPLE_NAME}_oryza_sativa_mm2_sort.bam \\\n",
    "            -o ${SAMPLE_NAME}_oryza_sativa_mm2.bw\n"
   ]
  },
  {
   "cell_type": "code",
   "execution_count": null,
   "id": "18cf13d3-a811-454d-8228-c1232cc078ea",
   "metadata": {},
   "outputs": [],
   "source": [
    "#Using Khmer tools to estimage the effective genome size of rice 340451842 using read length to aid\n",
    "unique-kmers.py -k 80 oryza_sativa_genome_IRGSP-1.0.fa "
   ]
  },
  {
   "cell_type": "code",
   "execution_count": null,
   "id": "b573dbc8-e30c-499e-9fa2-7d42d2913f6a",
   "metadata": {
    "editable": true,
    "slideshow": {
     "slide_type": ""
    },
    "tags": []
   },
   "outputs": [],
   "source": [
    "%%bash\n",
    "IN_DIR=\"/data/Epigenetics_Workshop/input_data/\"\n",
    "SAMPLE_NAME=\"SRR23699890\"\n",
    "GENOME_SIZE=\"340451842\"\n",
    "GEN_SIZE_CHR=\"oryza_sativa_sizes.genome\"\n",
    "cd \"${IN_DIR}\"\n",
    "\n",
    "# Call peaks using two methods\n",
    "# Negative binomial background based\n",
    "macs3 callpeak -f BAMPE --call-summits \\\n",
    "    -t ${SAMPLE_NAME}_oryza_sativa_mm2_sort.bam \\\n",
    "    -g ${GENOME_SIZE} -B -q 0.05 --trackline \\\n",
    "    -n ${SAMPLE_NAME}_oryza_sativa_atac.macs3.default.summits.bampe \n",
    "#HMM based\n",
    "macs3 hmmratac -i ${SAMPLE_NAME}_oryza_sativa_mm2_sort.bam \\\n",
    "    -n ${SAMPLE_NAME}_oryza_sativa_atac.macs3.hmmratac.bampe\n",
    "\n",
    "#Filter by chromosome only 1-12\n",
    "awk '$1 > 0 && $1 <= 12' \\\n",
    "    ${SAMPLE_NAME}_oryza_sativa_atac.macs3.default.summits.bampe_summits.bed > \\\n",
    "    ${SAMPLE_NAME}_oryza_sativa_atac_summits_filt.bed\n",
    "    \n",
    "bedtools slop -b 350 -g ${GEN_SIZE_CHR} \\\n",
    "    -i ${SAMPLE_NAME}_oryza_sativa_atac_summits_filt.bed > \\\n",
    "    ${SAMPLE_NAME}_oryza_sativa_atac_summits_filt_flank.bed\n",
    "    "
   ]
  },
  {
   "cell_type": "markdown",
   "id": "88e9d991-c1bc-49aa-ab13-970a8dd6ac69",
   "metadata": {
    "editable": true,
    "slideshow": {
     "slide_type": ""
    },
    "tags": []
   },
   "source": [
    "# Interpreting results with public data\n",
    "Lots of rice chip data (and other plants in [ChiPHub](https://biobigdata.nju.edu.cn/ChIPHub/) )\n",
    "\n",
    "\n",
    "# Look at interesting gene given data\n",
    "GW8 known rice grain size [many papers](https://pubmed.ncbi.nlm.nih.gov/29892844/)\n",
    "\n",
    "## Found GW8 in gff3\n",
    "NC_029263.1\tGnomon\tCDS\t26501223\t26501713\t.\t+\t0\tgene_id \"LOC4346133\"; transcript_id \"XM_015793891.2\"; db_xref \"GeneID:4346133\"; gbkey \"CDS\"; gene \"LOC4346133\"; product \"squamosa promoter-binding-like protein 16\"; protein_id \"XP_015649377.1\"; exon_number \"1\"; \n",
    "\n",
    "Tracked down gene in browser using XP_015649377 Refseq id and [Uniprot](https://www.uniprot.org/uniprotkb/Q6YZE8/external-links)\n",
    "\n",
    "## Used browser to get gene\n",
    "8:26500336-26506390 LOC_Os08g41940.1\n",
    "\n",
    "\n",
    "## Build a session that loads into the browser\n",
    "[Oryza Sativa Genome Viewer](https://biobigdata.nju.edu.cn/browser/?genome=oryza_sativa)\n",
    "\n",
    "Make and save a session\n",
    "\n",
    "## GW8 in publication\n",
    "\n",
    "[Comprehensive mapping and modelling of the rice regulome landscape unveils the regulatory architecture underlying complex traits](https://www.nature.com/articles/s41467-024-50787-y)\n",
    "\n",
    "Specifically figure 2c\n"
   ]
  },
  {
   "cell_type": "code",
   "execution_count": null,
   "id": "5f5334ff-9cf6-4dbb-b5fa-478dea15f030",
   "metadata": {
    "editable": true,
    "slideshow": {
     "slide_type": ""
    },
    "tags": []
   },
   "outputs": [],
   "source": [
    "%%bash\n",
    "#Downsample based on interesting area for example\n",
    "\n",
    "SAMPLE_NAME=\"SRR23699890\"\n",
    "samtools view -h -P ${SAMPLE_NAME}_oryza_sativa_mm2_sort.bam \"8:26288527-26724196\" | \\\n",
    "    samtools sort -n - | samtools fastq -s single.fq -1 atac_oryza_down_r1.fq -2 atac_oryza_down_r2.fq\n"
   ]
  }
 ],
 "metadata": {
  "kernelspec": {
   "display_name": "Python 3 (ipykernel)",
   "language": "python",
   "name": "python3"
  },
  "language_info": {
   "codemirror_mode": {
    "name": "ipython",
    "version": 3
   },
   "file_extension": ".py",
   "mimetype": "text/x-python",
   "name": "python",
   "nbconvert_exporter": "python",
   "pygments_lexer": "ipython3",
   "version": "3.12.3"
  }
 },
 "nbformat": 4,
 "nbformat_minor": 5
}
