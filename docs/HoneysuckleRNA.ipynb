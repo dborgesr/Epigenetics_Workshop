{
 "cells": [
  {
   "cell_type": "markdown",
   "id": "5dc92f48-c819-4dbe-825d-dd22e1d2327c",
   "metadata": {
    "editable": true,
    "slideshow": {
     "slide_type": "slide"
    },
    "tags": []
   },
   "source": [
    "# Presentacion y workshop para analysar RNA-seq de Lonicera Japonica (Honeysuckle)\n",
    "\n",
    "2. [The honeysuckle genome provides insight into the molecular mechanism of carotenoid metabolism underlying dynamic flower coloration](https://nph.onlinelibrary.wiley.com/doi/10.1111/nph.16552)\n"
   ]
  },
  {
   "cell_type": "markdown",
   "id": "ca30b67e-285b-4b4a-976d-50fd7af5d987",
   "metadata": {
    "editable": true,
    "slideshow": {
     "slide_type": "subslide"
    },
    "tags": []
   },
   "source": [
    "\n",
    "1. Preparar la data\n",
    "2. Quantificar expression\n",
    "3. Encontrar genes expresados differentemente\n",
    "4. Explorar los genes\n",
    "5. Direciones despues\n",
    "   "
   ]
  },
  {
   "cell_type": "code",
   "execution_count": null,
   "id": "3ee9c5f7-5203-4bbd-bcee-5520a9094266",
   "metadata": {
    "editable": true,
    "slideshow": {
     "slide_type": ""
    },
    "tags": []
   },
   "outputs": [],
   "source": [
    "%%bash\n",
    "#Get some RNA-seq from 2 RNA-seq in PRJNA813701\n",
    "# Agarrar data de un database conteniendo la majoridad de shotgun-sequencing\n",
    "#Golden flower stage (SRX14408205,SRX14408206,SRX14408207) \n",
    "wget -O rep1_golden_r1.fq.gz  ftp://ftp.sra.ebi.ac.uk/vol1/fastq/SRR182/022/SRR18269922/SRR18269922_1.fastq.gz\n",
    "wget -O rep1_golden_r2.fq.gz  ftp://ftp.sra.ebi.ac.uk/vol1/fastq/SRR182/022/SRR18269922/SRR18269922_2.fastq.gz\n"
   ]
  },
  {
   "cell_type": "code",
   "execution_count": null,
   "id": "e7f210db-e5ff-4067-8ea9-e9dd5cc79120",
   "metadata": {
    "editable": true,
    "slideshow": {
     "slide_type": ""
    },
    "tags": []
   },
   "outputs": [],
   "source": [
    "%%bash\n",
    "SAMPLE_NAME=\"rep1_golden\"\n",
    "IN_FOLDER=\"/data/Epigenetics_Workshop/input_data/\"\n",
    "OUT_FOLDER=\"/data/Epigenetics_Workshop/input_data/\"\n",
    "\n",
    "# Fastp will trim, QC and toss bad reads \n",
    "# Fastp saca \"reads\" de calidad mala y produce un reporte\n",
    "fastp -w 16 -i ${IN_FOLDER}/${SAMPLE_NAME}_r1.fq.gz \\\n",
    "      -I ${IN_FOLDER}/${SAMPLE_NAME}_r2.fq.gz \\\n",
    "      -o ${OUT_FOLDER}/${SAMPLE_NAME}_r1_filt.fq.gz \\\n",
    "      -O ${OUT_FOLDER}/${SAMPLE_NAME}_r2_filt.fq.gz \\\n",
    "      -h ${OUT_FOLDER}/${SAMPLE_NAME}_filt.html \\\n",
    "      -j ${OUT_FOLDER}/${SAMPLE_NAME}_filt.json \n"
   ]
  },
  {
   "cell_type": "code",
   "execution_count": null,
   "id": "9df8af40-630a-4b6a-a99a-ffd9279ad884",
   "metadata": {
    "editable": true,
    "slideshow": {
     "slide_type": ""
    },
    "tags": []
   },
   "outputs": [],
   "source": [
    "%%bash\n",
    "# Quantify using kallisto all samples\n",
    "#Quantify golden flower stage\n",
    "SAMPLE_NAME=\"rep1_golden\"\n",
    "IN_FOLDER=\"/data/Epigenetics_Workshop/input_data/\"\n",
    "cd ${IN_FOLDER}\n",
    "\n",
    "kallisto quant -t 8 -i lonicera_japonica_kallisto.idx \\\n",
    "    -o lonicera_japonica_${SAMPLE_NAME} --plaintext \\\n",
    "    ${SAMPLE_NAME}_r1_filt.fq.gz ${SAMPLE_NAME}_r2_filt.fq.gz\n"
   ]
  },
  {
   "cell_type": "code",
   "execution_count": null,
   "id": "8d2a22de-c6c2-4b07-b2cf-e60a8facfe5d",
   "metadata": {
    "editable": true,
    "slideshow": {
     "slide_type": ""
    },
    "tags": []
   },
   "outputs": [],
   "source": [
    "#Align reads to transcriptome using STAR for one sample to viz\n",
    "IX_DIR=\"/data/Epigenetics_Workshop/input_data/lonicera_japonica_star\"\n",
    "IN_DIR=\"/data/Epigenetics_Workshop/input_data/\"\n",
    "OUT_DIR=\"/data/Epigenetics_Workshop/input_data/\"\n",
    "TEMP_DIR=\"/data/Epigenetics_Workshop/input_data/tmp1\"\n",
    "SAMPLE_NAME=\"rep1_golden\"\n",
    "cd \"${IN_DIR}\"\n",
    "\n",
    "#gunzip if needed\n",
    "gunzip -c ${SAMPLE_NAME}_r1_filt.fq.gz > ${SAMPLE_NAME}_r1_filt.fq\n",
    "gunzip -c ${SAMPLE_NAME}_r2_filt.fq.gz > ${SAMPLE_NAME}_r2_filt.fq\n",
    "\n",
    "#No unzipping because STAR mad\n",
    "# Currently errors out on laptop, not enough ram\n",
    "STAR --runMode alignReads \\\n",
    "     --genomeDir $IX_DIR \\\n",
    "     --outSAMtype BAM SortedByCoordinate --runThreadN 2 \\\n",
    "     --outFileNamePrefix $OUT_DIR\"/${SAMPLE_NAME}_star/\" \\\n",
    "     --outTmpDir $TEMP_DIR \\\n",
    "     --outWigType wiggle \\\n",
    "     --quantMode TranscriptomeSAM GeneCounts \\\n",
    "     --readFilesIn ${SAMPLE_NAME}_r1_filt.fq ${SAMPLE_NAME}_r2_filt.fq\n"
   ]
  },
  {
   "cell_type": "code",
   "execution_count": null,
   "id": "e6df40ee-b895-462c-a543-0c3f1199bb79",
   "metadata": {
    "editable": true,
    "slideshow": {
     "slide_type": ""
    },
    "tags": []
   },
   "outputs": [],
   "source": [
    "#Flip output wig to bigwig for viz\n",
    "CHROM_SIZES=\"lonicera_japonica_rename_sizes.genome\"\n",
    "IN_DIR=\"/data/Epigenetics_Workshop/input_data/\"\n",
    "SAMPLE_NAME=\"rep1_golden\"\n",
    "\n",
    "cd \"${IN_DIR}/${SAMPLE_NAME}_star\"\n",
    "wigToBigWig Signal.UniqueMultiple.str1.out.wig \\\n",
    "    ${IN_DIR}/${CHROM_SIZES} \\\n",
    "    ${SAMPLE_NAME}_lonicera_japonica_pos.bw\n",
    "wigToBigWig Signal.UniqueMultiple.str2.out.wig \\\n",
    "    ${IN_DIR}/${CHROM_SIZES} \\\n",
    "    ${SAMPLE_NAME}_lonicera_japonica_neg.bw"
   ]
  },
  {
   "cell_type": "code",
   "execution_count": null,
   "id": "9e474db5-19d4-45a1-974b-d6d4127bbead",
   "metadata": {
    "editable": true,
    "slideshow": {
     "slide_type": ""
    },
    "tags": []
   },
   "outputs": [],
   "source": [
    "import pandas as pd\n",
    "import os\n",
    "# Differential expression to show caretonoid upregulation\n",
    "#Read in abundance estimates for all samples and make count matrix\n",
    "\n",
    "in_dir = \"/data/Epigenetics_Workshop/input_data\"\n",
    "samples = [\"rep1_golden\", \n",
    "           \"rep2_golden\", \n",
    "           \"rep3_golden\", \n",
    "           \"rep1_green\", \n",
    "           \"rep2_green\", \n",
    "           \"rep3_green\"]\n",
    "sample_df_list = []\n",
    "for sample in samples:\n",
    "    sample_df = pd.read_csv(os.path.join(in_dir,f'lonicera_japonica_{sample}/abundance.tsv'), sep=\"\\t\")\n",
    "    sample_df_list.append(sample_df)\n",
    "\n",
    "sample_counts = pd.concat([\n",
    "    sample_df_list[0]['est_counts'].astype(int), \n",
    "    sample_df_list[1]['est_counts'].astype(int), \n",
    "    sample_df_list[2]['est_counts'].astype(int), \n",
    "    sample_df_list[3]['est_counts'].astype(int), \n",
    "    sample_df_list[4]['est_counts'].astype(int), \n",
    "    sample_df_list[5]['est_counts'].astype(int), \n",
    "                          ], axis=1, keys=samples)\n",
    "\n",
    "sample_counts.index=sample_df_list[0][\"target_id\"]"
   ]
  },
  {
   "cell_type": "code",
   "execution_count": null,
   "id": "44d87c47-033d-4174-91af-2072c39a5197",
   "metadata": {},
   "outputs": [],
   "source": [
    "sample_counts = sample_counts[sample_counts.sum(axis = 1) > 0]\n",
    "sample_counts"
   ]
  },
  {
   "cell_type": "code",
   "execution_count": null,
   "id": "1c5d02ac-74fe-48b9-a36c-81715ace8330",
   "metadata": {
    "editable": true,
    "slideshow": {
     "slide_type": ""
    },
    "tags": []
   },
   "outputs": [],
   "source": [
    "sample_counts = sample_counts.T\n",
    "metadata = pd.DataFrame(zip(sample_counts.index, ['Golden','Golden','Golden','Green', 'Green', 'Green']),\n",
    "                        columns = ['Sample', 'Condition'])\n",
    "metadata = metadata.set_index('Sample')\n",
    "metadata"
   ]
  },
  {
   "cell_type": "code",
   "execution_count": null,
   "id": "3b6d2ea1-04c2-4bc7-9b5a-9033ba013f7a",
   "metadata": {},
   "outputs": [],
   "source": [
    "from pydeseq2.dds import DeseqDataSet\n",
    "from pydeseq2.ds import DeseqStats\n",
    "\n",
    "dds = DeseqDataSet(counts=sample_counts,\n",
    "            metadata=metadata,\n",
    "            design_factors=\"Condition\")"
   ]
  },
  {
   "cell_type": "code",
   "execution_count": null,
   "id": "1b28391b-e10f-4458-9b19-e4f20eacfee6",
   "metadata": {
    "editable": true,
    "slideshow": {
     "slide_type": ""
    },
    "tags": []
   },
   "outputs": [],
   "source": [
    "\n",
    "dds.deseq2()"
   ]
  },
  {
   "cell_type": "code",
   "execution_count": null,
   "id": "5996b4d7-02d3-4101-83ef-e9c5f32e9f76",
   "metadata": {},
   "outputs": [],
   "source": [
    "from pydeseq2.default_inference import DefaultInference\n",
    "inference = DefaultInference(n_cpus=8)\n",
    "stat_res = DeseqStats(dds, inference=inference, contrast = ('Condition','Golden','Green'))\n",
    "stat_res.summary()\n"
   ]
  },
  {
   "cell_type": "code",
   "execution_count": null,
   "id": "f3d96e4b-139a-4057-8001-d107f77c2f2f",
   "metadata": {},
   "outputs": [],
   "source": [
    "res = stat_res.results_df\n",
    "res"
   ]
  },
  {
   "cell_type": "code",
   "execution_count": null,
   "id": "d8d690be-74af-4196-a382-1d5f77491e6a",
   "metadata": {},
   "outputs": [],
   "source": [
    "res = res[res.baseMean >= 10]\n",
    "res"
   ]
  },
  {
   "cell_type": "code",
   "execution_count": null,
   "id": "630c20e6-b6dd-4fe5-897d-b331a5d3de55",
   "metadata": {},
   "outputs": [],
   "source": [
    "sigs = res[(res.padj < 0.005) & (abs(res.log2FoldChange) > 2)]\n",
    "sigs"
   ]
  },
  {
   "cell_type": "code",
   "execution_count": null,
   "id": "64004792-30bf-4afe-ad9c-5de504dbdc6e",
   "metadata": {},
   "outputs": [],
   "source": [
    "sigs.iloc[1:10].index"
   ]
  },
  {
   "cell_type": "code",
   "execution_count": null,
   "id": "727c832d-50a8-4a41-a89b-427485b4f3ee",
   "metadata": {},
   "outputs": [],
   "source": [
    "sigs.iloc[1].name.split(\".\")[0]"
   ]
  },
  {
   "cell_type": "code",
   "execution_count": null,
   "id": "07cb0e50-642f-466f-9919-10da27cd6729",
   "metadata": {
    "editable": true,
    "slideshow": {
     "slide_type": ""
    },
    "tags": []
   },
   "outputs": [],
   "source": [
    "%%bash\n",
    "\n",
    "#See what annotations exist\n",
    "grep \"EVM0011999.1\" \"../input_data/lonicera_japonica_pep_annotation.txt\"\n",
    "grep \"EVM0018585.2\" \"../input_data/lonicera_japonica_pep_annotation.txt\"\n",
    "grep \"EVM0009674.1\" \"../input_data/lonicera_japonica_pep_annotation.txt\"\n",
    "grep \"EVM0010779.2\" \"../input_data/lonicera_japonica_pep_annotation.txt\"\n",
    "\n"
   ]
  },
  {
   "cell_type": "markdown",
   "id": "3566e223-7931-49ce-aad1-6c803eb86a20",
   "metadata": {
    "jp-MarkdownHeadingCollapsed": true
   },
   "source": [
    "# Places to go from here:\n",
    "\n",
    "https://github.com/mousepixels/sanbomics_scripts/blob/main/PyDeseq2_DE_tutorial.ipynb"
   ]
  }
 ],
 "metadata": {
  "kernelspec": {
   "display_name": "Python 3 (ipykernel)",
   "language": "python",
   "name": "python3"
  },
  "language_info": {
   "codemirror_mode": {
    "name": "ipython",
    "version": 3
   },
   "file_extension": ".py",
   "mimetype": "text/x-python",
   "name": "python",
   "nbconvert_exporter": "python",
   "pygments_lexer": "ipython3",
   "version": "3.12.3"
  }
 },
 "nbformat": 4,
 "nbformat_minor": 5
}
