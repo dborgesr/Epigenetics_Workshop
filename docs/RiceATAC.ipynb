{
 "cells": [
  {
   "cell_type": "markdown",
   "id": "ce0eb34c-6be5-42e6-8f2d-6f35746a957b",
   "metadata": {
    "editable": true,
    "slideshow": {
     "slide_type": "slide"
    },
    "tags": []
   },
   "source": [
    "# Presentacion y workshop para analysar ATAC-seq de Oryza Sativa (Arroz)\n",
    "\n",
    "Data viene de:\n",
    "\n",
    "2. [Comprehensive mapping and modelling of the rice regulome landscape unveils the regulatory architecture underlying complex traits](https://www.nature.com/articles/s41467-024-50787-y)\n"
   ]
  },
  {
   "cell_type": "markdown",
   "id": "0153f325-e66f-4510-ad06-028d326882ee",
   "metadata": {
    "editable": true,
    "slideshow": {
     "slide_type": "subslide"
    },
    "tags": []
   },
   "source": [
    "1. Preparar la data\n",
    "2. Aligniar al genoma\n",
    "3. Encontrar areas con muchas reads\n",
    "4. Visualizar con otra data"
   ]
  },
  {
   "cell_type": "code",
   "execution_count": null,
   "id": "e0ca8471-eb66-4b8b-b54a-4af55cb09766",
   "metadata": {
    "editable": true,
    "slideshow": {
     "slide_type": "slide"
    },
    "tags": []
   },
   "outputs": [],
   "source": [
    "%%bash\n",
    "\n",
    "SAMPLE_NAME=\"atac_oryza_down\"\n",
    "IN_FOLDER=\"/data/Epigenetics_Workshop/input_data/\"\n",
    "OUT_FOLDER=\"/data/Epigenetics_Workshop/input_data/\"\n",
    "fastp -w 16 -i ${IN_FOLDER}/${SAMPLE_NAME}_r1.fq \\\n",
    "      -I ${IN_FOLDER}/${SAMPLE_NAME}_r2.fq \\\n",
    "      -o ${OUT_FOLDER}/${SAMPLE_NAME}_r1_filt.fq.gz \\\n",
    "      -O ${OUT_FOLDER}/${SAMPLE_NAME}_r2_filt.fq.gz \\\n",
    "      -h ${OUT_FOLDER}/${SAMPLE_NAME}_filt.html \\\n",
    "      -j ${OUT_FOLDER}/${SAMPLE_NAME}_filt.json \\\n",
    "      --detect_adapter_for_pe \n"
   ]
  },
  {
   "cell_type": "code",
   "execution_count": null,
   "id": "874825ba-bec0-486a-836f-debcc8c23815",
   "metadata": {
    "editable": true,
    "slideshow": {
     "slide_type": "slide"
    },
    "tags": []
   },
   "outputs": [],
   "source": [
    "%%bash\n",
    "IX_DIR=\"/data/Epigenetics_Workshop/input_data/oryza_sativa_mm2/ref_rename.mmi\"\n",
    "IN_DIR=\"/data/Epigenetics_Workshop/input_data/\"\n",
    "OUT_DIR=\"/data/Epigenetics_Workshop/input_data/\"\n",
    "TEMP_DIR=\"/data/Epigenetics_Workshop/input_data/tmp\"\n",
    "SAMPLE_NAME=\"atac_oryza_down\"\n",
    "cd \"${IN_DIR}\"\n",
    "\n",
    "#Map using minimap2 w/ sr params and sort bam for caling peaks\n",
    "minimap2 -t 16 -ax sr \\\n",
    "            ${IX_DIR} \\\n",
    "            ${SAMPLE_NAME}_r1_filt.fq.gz ${SAMPLE_NAME}_r2_filt.fq.gz | \\\n",
    "            samtools sort  -T ${TEMP_DIR} -@ 8 - | \\\n",
    "            samtools view -hbS - > ${SAMPLE_NAME}_oryza_sativa_mm2_sort.bam\n",
    "samtools index ${SAMPLE_NAME}_oryza_sativa_mm2_sort.bam\n",
    "\n",
    "#Make bw for viz\n",
    "bamCoverage --Offset 5 -1 -b ${SAMPLE_NAME}_oryza_sativa_mm2_sort.bam \\\n",
    "            -o ${SAMPLE_NAME}_oryza_sativa_mm2.bw\n"
   ]
  },
  {
   "cell_type": "code",
   "execution_count": null,
   "id": "b034c55e-8b59-48ba-a7fd-9d9f6b0a4181",
   "metadata": {
    "editable": true,
    "slideshow": {
     "slide_type": "slide"
    },
    "tags": []
   },
   "outputs": [],
   "source": [
    "%%bash\n",
    "IN_DIR=\"/data/Epigenetics_Workshop/input_data/\"\n",
    "SAMPLE_NAME=\"atac_oryza_down\"\n",
    "GENOME_SIZE=\"340451842\"\n",
    "GEN_SIZE_CHR=\"oryza_sativa_sizes.genome\"\n",
    "cd \"${IN_DIR}\"\n",
    "\n",
    "# Call peaks using two methods\n",
    "# Negative binomial background based\n",
    "macs3 callpeak -f BAMPE --call-summits \\\n",
    "    -t ${SAMPLE_NAME}_oryza_sativa_mm2_sort.bam \\\n",
    "    -g ${GENOME_SIZE} -B -q 0.05 --trackline \\\n",
    "    -n ${SAMPLE_NAME}_oryza_sativa_atac.macs3.default.summits.bampe \n",
    "#HMM based -- doesn't run on downsample data because background model needs more data\n",
    "#macs3 hmmratac -i ${SAMPLE_NAME}_oryza_sativa_mm2_sort.bam \\\n",
    "#    -n ${SAMPLE_NAME}_oryza_sativa_atac.macs3.hmmratac.bampe\n",
    "\n",
    "#Filter by chromosome only 1-12\n",
    "awk '$1 > 0 && $1 <= 12' \\\n",
    "    ${SAMPLE_NAME}_oryza_sativa_atac.macs3.default.summits.bampe_summits.bed > \\\n",
    "    ${SAMPLE_NAME}_oryza_sativa_atac_summits_filt.bed\n",
    "    \n",
    "bedtools slop -b 350 -g ${GEN_SIZE_CHR} \\\n",
    "    -i ${SAMPLE_NAME}_oryza_sativa_atac_summits_filt.bed > \\\n",
    "    ${SAMPLE_NAME}_oryza_sativa_atac_summits_filt_flank.bed\n",
    "    "
   ]
  },
  {
   "cell_type": "markdown",
   "id": "52ccc44e-a8a3-4ba1-85c4-0c17d08ce938",
   "metadata": {
    "editable": true,
    "slideshow": {
     "slide_type": "slide"
    },
    "tags": []
   },
   "source": [
    "# Interpretando resultados\n",
    "\n",
    "Ahora podemos tomar el output the nuestro analysis"
   ]
  },
  {
   "cell_type": "markdown",
   "id": "e4c57bc4-5d33-468a-8d80-69c7c3c3b633",
   "metadata": {
    "editable": true,
    "slideshow": {
     "slide_type": "slide"
    },
    "tags": []
   },
   "source": [
    "# Interpretando los resultados\n",
    "\n",
    "Para interpretar el resultado, podemos usar data que se a publicado, especificamente [ChiPHub](https://biobigdata.nju.edu.cn/ChIPHub/) es un recurso para el analysis de epigenetica en plantas\n"
   ]
  },
  {
   "cell_type": "markdown",
   "id": "cacc9039-91f0-490a-9477-30846a508b18",
   "metadata": {
    "editable": true,
    "slideshow": {
     "slide_type": "slide"
    },
    "tags": []
   },
   "source": [
    "# Comparar track con histones\n",
    "\n",
    "La data de chromatin accessibilidad viene de pistil, y en pistil se ha encontrado que el gene GW8 es muy importante.\n",
    "[Comprehensive mapping and modelling of the rice regulome landscape unveils the regulatory architecture underlying complex traits](https://www.nature.com/articles/s41467-024-50787-y)\\\n",
    " Figure 2c\n",
    "\n",
    "Podemos  usar recursos externos como [Uniprot](https://www.uniprot.org/uniprotkb/Q6YZE8/external-links) para buscar el Xref en nuestros anotaciones de gene en el .gff:\n",
    "```NC_029263.1\tGnomon\tCDS\t26501223\t26501713\t.\t+\t0\tgene_id \"LOC4346133\"; transcript_id \"XM_015793891.2\"; db_xref \"GeneID:4346133\"; gbkey \"CDS\"; gene \"LOC4346133\"; product \"squamosa promoter-binding-like protein 16\"; protein_id \"XP_015649377.1\"; exon_number \"1\"; ```\n",
    "\n"
   ]
  },
  {
   "cell_type": "markdown",
   "id": "23f55520-dcdd-4576-bd3c-eaebe29e8c4f",
   "metadata": {
    "editable": true,
    "slideshow": {
     "slide_type": "slide"
    },
    "tags": []
   },
   "source": [
    "# GW8 importante en produccion\n",
    "GW8 known rice grain size [many papers](https://pubmed.ncbi.nlm.nih.gov/29892844/)\n"
   ]
  },
  {
   "cell_type": "markdown",
   "id": "0e014605-4b6d-4220-a8e8-ee66924353cc",
   "metadata": {
    "editable": true,
    "slideshow": {
     "slide_type": "slide"
    },
    "tags": []
   },
   "source": [
    "# Mirar GW8 area en browser\n",
    "8:26500336-26506390 LOC_Os08g41940.1\n",
    "[Oryza Sativa Genome Viewer](https://biobigdata.nju.edu.cn/browser/?genome=oryza_sativa)\n",
    "\n",
    "Aqui podemos agregar el track que creamos! \n",
    "\n",
    "Tracks --> Custom Tracks --> Add new tracks --> Upload them from your computer --> atac_oryza_down_oryza_sativa_atac_summits_filt_flank.bed\n"
   ]
  },
  {
   "cell_type": "markdown",
   "id": "3de08153-c3c4-484d-a283-9cfae37932e6",
   "metadata": {
    "editable": true,
    "slideshow": {
     "slide_type": "slide"
    },
    "tags": []
   },
   "source": [
    "# Poner otras tracks\n",
    "\n",
    "Podemos colocar mas tracks de epigenetica, como h3k4me3 y h3k27ac!\n",
    "\n",
    "* Tracks --> public track hubs --> ChIPHub analysis results seacrching by Factor(oryza_sativa)\n",
    "\n",
    "* Tracks --> Track table --> Podemos poner algunas \n"
   ]
  }
 ],
 "metadata": {
  "kernelspec": {
   "display_name": "Python 3 (ipykernel)",
   "language": "python",
   "name": "python3"
  },
  "language_info": {
   "codemirror_mode": {
    "name": "ipython",
    "version": 3
   },
   "file_extension": ".py",
   "mimetype": "text/x-python",
   "name": "python",
   "nbconvert_exporter": "python",
   "pygments_lexer": "ipython3",
   "version": "3.12.3"
  }
 },
 "nbformat": 4,
 "nbformat_minor": 5
}
