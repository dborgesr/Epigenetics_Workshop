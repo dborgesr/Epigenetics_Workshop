{
 "cells": [
  {
   "cell_type": "markdown",
   "id": "9edac47e-b15e-4093-98f7-816e78751301",
   "metadata": {
    "editable": true,
    "slideshow": {
     "slide_type": ""
    },
    "tags": []
   },
   "source": [
    "# Preparacion para el workshop\n",
    "\n",
    "* Background de epigenetica useful\n",
    "* Experiencia con Linux y el terminal\n",
    "* Instalar Software (Docker y IGV)\n",
    "* Download todo el code que se usa en este workshop o usa USB stick\n",
    "* Usa USB stick para tomar references y otra data usada en el workshop"
   ]
  },
  {
   "cell_type": "markdown",
   "id": "2d708087-f3c5-4c85-9b79-a56d55430742",
   "metadata": {
    "editable": true,
    "slideshow": {
     "slide_type": "slide"
    },
    "tags": []
   },
   "source": [
    "# Download el repositorio para el workshop\n",
    "\n",
    "https://github.com/dborgesr/Epigenetics_Workshop\n",
    "\n",
    "Usando el cli \n",
    "```\n",
    "git clone https://github.com/dborgesr/Epigenetics_Workshop.git\n",
    "```"
   ]
  },
  {
   "cell_type": "markdown",
   "id": "23734f4d-a0b5-4310-a81e-b9c333848335",
   "metadata": {
    "editable": true,
    "slideshow": {
     "slide_type": "slide"
    },
    "tags": []
   },
   "source": [
    "# Instalando Docker\n",
    "\n",
    "Docker es un programa que te deja crear y usar \"Imagenes\". Una imagen es como una machina virtual, con su proprio sistema operativo\n",
    "\n",
    "[Install Docker](https://docs.docker.com/engine/install/)\n"
   ]
  },
  {
   "cell_type": "markdown",
   "id": "0ee28627-6053-48b7-be96-2a672ed81dd9",
   "metadata": {
    "editable": true,
    "slideshow": {
     "slide_type": "slide"
    },
    "tags": []
   },
   "source": [
    "# Instalar IGV\n",
    "IGV es un genome viewer, nos deja ver un genoma que tenemos (Rice y Honeysuckle) con \"tracks\", que incluye todo tipos de \"seq\" data, incluyendo RNA-seq, DNA-seq, ATAC-seq, etc\n",
    "[IGV](https://igv.org/doc/desktop/#DownloadPage/)"
   ]
  },
  {
   "cell_type": "markdown",
   "id": "8163a031-fc18-4213-a8f2-4f64f22e2eaa",
   "metadata": {
    "editable": true,
    "slideshow": {
     "slide_type": "slide"
    },
    "tags": []
   },
   "source": [
    "# Obtener imagen EpiStudent\n",
    "\n",
    "### Abrir terminal\n",
    "Editar y leer code:\n",
    "[VSCode](https://code.visualstudio.com/) Es muy bueno, simple y poderoso para una terminal y editar code\n"
   ]
  },
  {
   "cell_type": "markdown",
   "id": "5a45e10d-f78b-47c4-a96b-3e0d3360d743",
   "metadata": {
    "editable": true,
    "slideshow": {
     "slide_type": "subslide"
    },
    "tags": []
   },
   "source": [
    "Usando WSL2 con Windows\n",
    "[Install WSL](https://learn.microsoft.com/en-us/windows/wsl/install)\n",
    "[WSL2 Docker](https://docs.docker.com/desktop/wsl/)"
   ]
  },
  {
   "cell_type": "markdown",
   "id": "0163d279-9e7c-432b-a66b-8fb62abfb426",
   "metadata": {
    "editable": true,
    "slideshow": {
     "slide_type": "subslide"
    },
    "tags": []
   },
   "source": [
    "Usando terminal en MACOS\n",
    "Built-in Xterminal"
   ]
  },
  {
   "cell_type": "markdown",
   "id": "99b16c19-7b71-4738-8ca0-1cac3a708d6b",
   "metadata": {
    "editable": true,
    "slideshow": {
     "slide_type": "subslide"
    },
    "tags": []
   },
   "source": [
    "# Obtener imagen EpiStudent\n",
    "En vez de download image vamos a usar una que tengo en un file\n",
    "\n",
    "En tu terminal en el lugar de tu repositorio\n",
    "`docker load epistudent.tar`\n"
   ]
  },
  {
   "cell_type": "markdown",
   "id": "c1c540f8-fbd9-4ef8-b31f-31b8486b949d",
   "metadata": {
    "editable": true,
    "slideshow": {
     "slide_type": ""
    },
    "tags": []
   },
   "source": [
    "# Cambiar el .env file\n",
    "\n",
    "Cambiar el .env file con el path que coresponde a el lugar del repositorio en el disco duro\n",
    "\n",
    "```\n",
    "# External host variables -- EDIT HERE --\n",
    "repo_dir=/mnt/d/Epigenetics_Workshop\n",
    "data_dir=/mnt/d/Epigenetics_Workshop/input_data\n",
    "```\n"
   ]
  },
  {
   "cell_type": "markdown",
   "id": "04c67d0a-b367-4604-8452-6b11d7621f67",
   "metadata": {
    "editable": true,
    "slideshow": {
     "slide_type": "slide"
    },
    "tags": []
   },
   "source": [
    "# Empezar la imagen\n",
    "\n",
    "```\n",
    "docker compose up -d epistudent\n",
    "```\n"
   ]
  },
  {
   "cell_type": "markdown",
   "id": "b39528aa-17fa-40c4-818f-0e15bfdfeb17",
   "metadata": {
    "editable": true,
    "slideshow": {
     "slide_type": "slide"
    },
    "tags": []
   },
   "source": [
    "# Empezar workshop\n",
    "\n",
    "Ir a website en tu browser en port 8900 [localhost:8902](http://localhost:8902)"
   ]
  }
 ],
 "metadata": {
  "kernelspec": {
   "display_name": "Python 3 (ipykernel)",
   "language": "python",
   "name": "python3"
  },
  "language_info": {
   "codemirror_mode": {
    "name": "ipython",
    "version": 3
   },
   "file_extension": ".py",
   "mimetype": "text/x-python",
   "name": "python",
   "nbconvert_exporter": "python",
   "pygments_lexer": "ipython3",
   "version": "3.12.3"
  }
 },
 "nbformat": 4,
 "nbformat_minor": 5
}
