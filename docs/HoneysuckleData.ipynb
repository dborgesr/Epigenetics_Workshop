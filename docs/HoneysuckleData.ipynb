{
 "cells": [
  {
   "cell_type": "markdown",
   "id": "78aabc24-756a-4320-a38f-cd41ac43952b",
   "metadata": {
    "editable": true,
    "slideshow": {
     "slide_type": ""
    },
    "tags": []
   },
   "source": [
    "# Get main genome\n",
    "\n",
    "1. [Chromosome-scale genome assembly of an important medicinal plant honeysuckle](https://www.nature.com/articles/s41597-022-01385-4)\n",
    "Best genome it seems, contains genome fasta, gene annotations, rna fasta, and protein fa.\n",
    "[Attachments from above paper](https://figshare.com/articles/online_resource/honeysuckle_genome_final_gene_gff3/18092708/6?file=34639925)\n",
    "\n",
    "2. [The honeysuckle genome provides insight into the molecular mechanism of carotenoid metabolism underlying dynamic flower coloration](https://nph.onlinelibrary.wiley.com/doi/10.1111/nph.16552)\n",
    "\n",
    "3. [Epigenetic changes in the regulation of carotenoid metabolism during honeysuckle flower development](https://www.sciencedirect.com/science/article/pii/S2468014122001352)\n",
    "\n"
   ]
  },
  {
   "cell_type": "code",
   "execution_count": null,
   "id": "e49c334c-7963-4c58-a33b-554c6e3938d7",
   "metadata": {
    "editable": true,
    "slideshow": {
     "slide_type": ""
    },
    "tags": []
   },
   "outputs": [],
   "source": [
    "%%bash\n",
    "# Grab the genome and gene annotations from 1\n",
    "wget -O lonicera_japonica_genome.fa.gz https://ftp.ncbi.nlm.nih.gov/genomes/all/GCA/021/464/415/GCA_021464415.1_ASM2146441v1/GCA_021464415.1_ASM2146441v1_genomic.fna.gz\n",
    "wget -O lonicera_japonica_genes.gff3 https://figshare.com/ndownloader/files/32821655\n",
    "wget -O lonicera_japonica_trans_pep.fa https://figshare.com/ndownloader/files/34632194\n",
    "wget -O lonicera_japonica_repeats.gff3 https://figshare.com/ndownloader/files/34639925\n",
    "wget -O lonicera_japonica_pep_annotation.txt https://figshare.com/ndownloader/files/34631303\n"
   ]
  },
  {
   "cell_type": "code",
   "execution_count": null,
   "id": "f4659aad-9f34-400c-869c-0b890c505af4",
   "metadata": {},
   "outputs": [],
   "source": [
    "# Massaging / munging of the reference files -_-\n",
    "\n",
    "#Rename ncbi headers because not matching gene annotation\n",
    "seqkit replace -p \".+Sijihua \"  lonicera_japonica_genome.fa  | \\\n",
    "    seqkit replace -p \"chromosome \" -r \"Chr0\" | \\\n",
    "    seqkit replace -p \",.+\" > lonicera_japonica_rename_genome.fa\n",
    "\n",
    "#Using AGAT to make cDNA from genome fasta and gene models\n",
    "agat_sp_extract_sequences.pl \\\n",
    "    -g lonicera_japonica_genes.gff3 \\\n",
    "    -f lonicera_japonica_rename_genome.fa \\\n",
    "    --cdna -t exon --merge > lonicera_japonica_cdna.fa\n",
    "\n",
    "#Get chromosome sizes using pyfaidx\n",
    "faidx lonicera_japonica_rename_genome.fa -i chromsizes > lonicera_japonica_rename_sizes.genome\n"
   ]
  },
  {
   "cell_type": "code",
   "execution_count": null,
   "id": "267d6bbd-a008-4dc4-b5e8-4bd24d78190f",
   "metadata": {},
   "outputs": [],
   "source": [
    "# Grab some long-read PacBio data from 1 \n",
    "wget -O lonicera_japonica_pacbio_dna_SRR17509642.fq.gz \\\n",
    "    ftp://ftp.sra.ebi.ac.uk/vol1/fastq/SRR175/042/SRR17509642/SRR17509642_subreads.fastq.gz\n"
   ]
  },
  {
   "cell_type": "code",
   "execution_count": null,
   "id": "f3cc8dd6-2d45-4d46-bf21-69c6beb03cd3",
   "metadata": {},
   "outputs": [],
   "source": [
    "#make minimap2 ref\n",
    "IN_FOLDER=\"/data/Epigenetics_Workshop/input_data/\"\n",
    "mkdir -p ${IN_FOLDER}/lonicera_japonica_mm2\n",
    "minimap2 -d${IN_FOLDER}/lonicera_japonica_mm2/ref.mmi \\\n",
    "    ${IN_FOLDER}/lonicera_japonica_rename_genome.fa\n"
   ]
  },
  {
   "cell_type": "code",
   "execution_count": null,
   "id": "3d702195-56f0-4971-9394-11e0f8b71b55",
   "metadata": {},
   "outputs": [],
   "source": [
    "SAMPLE_NAME=\"lonicera_japonica_pacbio_dna_SRR17509642\"\n",
    "IN_FOLDER=\"/data/Epigenetics_Workshop/input_data/\"\n",
    "OUT_FOLDER=\"/data/Epigenetics_Workshop/input_data/\"\n",
    "#Disabling quality filtering because pacbio \n",
    "fastp -w 16 -Q -i ${IN_FOLDER}/${SAMPLE_NAME}.fq.gz \\\n",
    "      -o ${OUT_FOLDER}/${SAMPLE_NAME}_filt.fq.gz \\\n",
    "      -h ${OUT_FOLDER}/${SAMPLE_NAME}_filt.html \\\n",
    "      -j ${OUT_FOLDER}/${SAMPLE_NAME}_filt.json \n"
   ]
  },
  {
   "cell_type": "code",
   "execution_count": null,
   "id": "be72fbed-93d9-4d6c-8dba-01779c351c16",
   "metadata": {},
   "outputs": [],
   "source": [
    "IX_DIR=\"/data/Epigenetics_Workshop/input_data/lonicera_japonica_mm2/ref.mmi\"\n",
    "IN_DIR=\"/data/Epigenetics_Workshop/input_data/\"\n",
    "OUT_DIR=\"/data/Epigenetics_Workshop/input_data/\"\n",
    "TEMP_DIR=\"/data/Epigenetics_Workshop/input_data/tmp1\"\n",
    "SAMPLE_NAME=\"lonicera_japonica_pacbio_dna_SRR17509642\"\n",
    "cd \"${IN_DIR}\"\n",
    "\n",
    "#Map using minimap2 w/ pacbio hifi params and sort bam for viz\n",
    "minimap2 -t 16 -ax map-hifi \\\n",
    "            ${IX_DIR} \\\n",
    "            ${IN_DIR}/${SAMPLE_NAME}_filt.fq.gz | \\\n",
    "            samtools sort  -T ${TEMP_DIR} -@ 8 - | \\\n",
    "            samtools view -hbS - > ${OUT_DIR}/${SAMPLE_NAME}_mm_cordSorted.bam\n",
    "samtools index ${OUT_DIR}/${SAMPLE_NAME}_mm_cordSorted.bam\n"
   ]
  },
  {
   "cell_type": "code",
   "execution_count": null,
   "id": "d84f5c5e-f1dc-4721-b0e3-ea8b2c1d359c",
   "metadata": {
    "editable": true,
    "slideshow": {
     "slide_type": ""
    },
    "tags": []
   },
   "outputs": [],
   "source": [
    "%%bash\n",
    "# Generate kallisto reference using cDNA\n",
    "kallisto index -i lonicera_japonica_kallisto.idx  lonicera_japonica_cdna.fa\n"
   ]
  },
  {
   "cell_type": "code",
   "execution_count": null,
   "id": "684fc7c6-cb85-4898-9701-cd784f9c70e9",
   "metadata": {},
   "outputs": [],
   "source": [
    "apt-get install cmake zlib1g-dev  autoconf libhdf5-dev"
   ]
  },
  {
   "cell_type": "code",
   "execution_count": null,
   "id": "4e5d3057-1848-4f45-b845-ff5099ef50ff",
   "metadata": {
    "editable": true,
    "slideshow": {
     "slide_type": ""
    },
    "tags": []
   },
   "outputs": [],
   "source": [
    "#Get some RNA-seq from 2 RNA-seq in PRJNA813701\n",
    "#Green third stage (SRX14408209,SRX14408210,SRX14408211)\n",
    "wget -O rep1_green_r1.fq.gz  ftp://ftp.sra.ebi.ac.uk/vol1/fastq/SRR182/018/SRR18269918/SRR18269918_1.fastq.gz\n",
    "wget -O rep1_green_r2.fq.gz  ftp://ftp.sra.ebi.ac.uk/vol1/fastq/SRR182/018/SRR18269918/SRR18269918_2.fastq.gz\n",
    "wget -O rep2_green_r1.fq.gz  ftp://ftp.sra.ebi.ac.uk/vol1/fastq/SRR182/017/SRR18269917/SRR18269917_1.fastq.gz\n",
    "wget -O rep2_green_r2.fq.gz  ftp://ftp.sra.ebi.ac.uk/vol1/fastq/SRR182/017/SRR18269917/SRR18269917_1.fastq.gz\n",
    "wget -O rep3_green_r1.fq.gz  ftp://ftp.sra.ebi.ac.uk/vol1/fastq/SRR182/016/SRR18269916/SRR18269916_1.fastq.gz\n",
    "wget -O rep3_green_r2.fq.gz  ftp://ftp.sra.ebi.ac.uk/vol1/fastq/SRR182/016/SRR18269916/SRR18269916_1.fastq.gz\n",
    "\n",
    "#Golder flower stage (SRX14408205,SRX14408206,SRX14408207) \n",
    "wget -O rep1_golden_r1.fq.gz  ftp://ftp.sra.ebi.ac.uk/vol1/fastq/SRR182/022/SRR18269922/SRR18269922_1.fastq.gz\n",
    "wget -O rep1_golden_r2.fq.gz  ftp://ftp.sra.ebi.ac.uk/vol1/fastq/SRR182/022/SRR18269922/SRR18269922_2.fastq.gz\n",
    "wget -O rep2_golden_r1.fq.gz  ftp://ftp.sra.ebi.ac.uk/vol1/fastq/SRR182/021/SRR18269921/SRR18269921_1.fastq.gz\n",
    "wget -O rep2_golden_r2.fq.gz  ftp://ftp.sra.ebi.ac.uk/vol1/fastq/SRR182/021/SRR18269921/SRR18269921_2.fastq.gz\n",
    "wget -O rep3_golden_r1.fq.gz  ftp://ftp.sra.ebi.ac.uk/vol1/fastq/SRR182/020/SRR18269920/SRR18269920_1.fastq.gz\n",
    "wget -O rep3_golden_r2.fq.gz  ftp://ftp.sra.ebi.ac.uk/vol1/fastq/SRR182/020/SRR18269920/SRR18269920_2.fastq.gz\n",
    "\n"
   ]
  },
  {
   "cell_type": "code",
   "execution_count": null,
   "id": "5441b27f-53db-4c48-bdb4-6ccc9c1431d2",
   "metadata": {
    "editable": true,
    "slideshow": {
     "slide_type": ""
    },
    "tags": []
   },
   "outputs": [],
   "source": [
    "SAMPLE_NAME=\"rep1_golden\"\n",
    "IN_FOLDER=\"/data/Epigenetics_Workshop/input_data/\"\n",
    "OUT_FOLDER=\"/data/Epigenetics_Workshop/input_data/\"\n",
    "# Output in fq because for whatever ERE*(*F reason STAR can't deal w/ zcat in NTFS windows drives\n",
    "fastp -w 16 -i ${IN_FOLDER}/${SAMPLE_NAME}_r1.fq.gz \\\n",
    "      -I ${IN_FOLDER}/${SAMPLE_NAME}_r2.fq.gz \\\n",
    "      -o ${OUT_FOLDER}/${SAMPLE_NAME}_r1_filt.fq \\\n",
    "      -O ${OUT_FOLDER}/${SAMPLE_NAME}_r2_filt.fq \\\n",
    "      -h ${OUT_FOLDER}/${SAMPLE_NAME}_filt.html \\\n",
    "      -j ${OUT_FOLDER}/${SAMPLE_NAME}_filt.json \n",
    "#One sample non-gz others yes because only kallisto\n",
    "SAMPLE_NAME=\"rep2_golden\"\n",
    "fastp -w 16 -i ${IN_FOLDER}/${SAMPLE_NAME}_r1.fq.gz \\\n",
    "      -I ${IN_FOLDER}/${SAMPLE_NAME}_r2.fq.gz \\\n",
    "      -o ${OUT_FOLDER}/${SAMPLE_NAME}_r1_filt.fq.gz \\\n",
    "      -O ${OUT_FOLDER}/${SAMPLE_NAME}_r2_filt.fq.gz \\\n",
    "      -h ${OUT_FOLDER}/${SAMPLE_NAME}_filt.html \\\n",
    "      -j ${OUT_FOLDER}/${SAMPLE_NAME}_filt.json \n",
    "SAMPLE_NAME=\"rep3_golden\"\n",
    "fastp -w 16 -i ${IN_FOLDER}/${SAMPLE_NAME}_r1.fq.gz \\\n",
    "      -I ${IN_FOLDER}/${SAMPLE_NAME}_r2.fq.gz \\\n",
    "      -o ${OUT_FOLDER}/${SAMPLE_NAME}_r1_filt.fq.gz \\\n",
    "      -O ${OUT_FOLDER}/${SAMPLE_NAME}_r2_filt.fq.gz \\\n",
    "      -h ${OUT_FOLDER}/${SAMPLE_NAME}_filt.html \\\n",
    "      -j ${OUT_FOLDER}/${SAMPLE_NAME}_filt.json \n",
    "#Green side\n",
    "SAMPLE_NAME=\"rep1_green\"\n",
    "fastp -w 16 -i ${IN_FOLDER}/${SAMPLE_NAME}_r1.fq.gz \\\n",
    "      -I ${IN_FOLDER}/${SAMPLE_NAME}_r2.fq.gz \\\n",
    "      -o ${OUT_FOLDER}/${SAMPLE_NAME}_r1_filt.fq.gz \\\n",
    "      -O ${OUT_FOLDER}/${SAMPLE_NAME}_r2_filt.fq.gz \\\n",
    "      -h ${OUT_FOLDER}/${SAMPLE_NAME}_filt.html \\\n",
    "      -j ${OUT_FOLDER}/${SAMPLE_NAME}_filt.json \n",
    "SAMPLE_NAME=\"rep2_green\"\n",
    "fastp -w 16 -i ${IN_FOLDER}/${SAMPLE_NAME}_r1.fq.gz \\\n",
    "      -I ${IN_FOLDER}/${SAMPLE_NAME}_r2.fq.gz \\\n",
    "      -o ${OUT_FOLDER}/${SAMPLE_NAME}_r1_filt.fq.gz \\\n",
    "      -O ${OUT_FOLDER}/${SAMPLE_NAME}_r2_filt.fq.gz \\\n",
    "      -h ${OUT_FOLDER}/${SAMPLE_NAME}_filt.html \\\n",
    "      -j ${OUT_FOLDER}/${SAMPLE_NAME}_filt.json \n",
    "SAMPLE_NAME=\"rep3_green\"\n",
    "fastp -w 16 -i ${IN_FOLDER}/${SAMPLE_NAME}_r1.fq.gz \\\n",
    "      -I ${IN_FOLDER}/${SAMPLE_NAME}_r2.fq.gz \\\n",
    "      -o ${OUT_FOLDER}/${SAMPLE_NAME}_r1_filt.fq.gz \\\n",
    "      -O ${OUT_FOLDER}/${SAMPLE_NAME}_r2_filt.fq.gz \\\n",
    "      -h ${OUT_FOLDER}/${SAMPLE_NAME}_filt.html \\\n",
    "      -j ${OUT_FOLDER}/${SAMPLE_NAME}_filt.json \n"
   ]
  },
  {
   "cell_type": "code",
   "execution_count": null,
   "id": "c68e80ec-ceab-4834-b884-cc1199d09a65",
   "metadata": {
    "editable": true,
    "slideshow": {
     "slide_type": ""
    },
    "tags": []
   },
   "outputs": [],
   "source": [
    "%%bash\n",
    "\n",
    "#Make STAR reference\n",
    "STAR --runThreadN 16 \\\n",
    "     --runMode genomeGenerate --outTmpDir /data/Epigenetics_Workshop/input_data/tmp_star \\\n",
    "     --genomeDir /data/Epigenetics_Workshop/input_data/lonicera_japonica_star \\\n",
    "     --genomeFastaFiles /data/Epigenetics_Workshop/input_data/lonicera_japonica_rename_genome.fa \\\n",
    "     --sjdbGTFfile /data/Epigenetics_Workshop/input_data/lonicera_japonica_genes.gff3 \\\n",
    "     --sjdbOverhang 149 --limitGenomeGenerateRAM 30000000000 --genomeSAindexNbases 12\n",
    "\n"
   ]
  },
  {
   "cell_type": "code",
   "execution_count": null,
   "id": "645dce8a-793f-433c-b866-8bceff46ee08",
   "metadata": {
    "editable": true,
    "slideshow": {
     "slide_type": ""
    },
    "tags": []
   },
   "outputs": [],
   "source": [
    "#Align reads to transcriptome using STAR for one sample to viz\n",
    "IX_DIR=\"/data/Epigenetics_Workshop/input_data/lonicera_japonica_star\"\n",
    "IN_DIR=\"/data/Epigenetics_Workshop/input_data/\"\n",
    "OUT_DIR=\"/data/Epigenetics_Workshop/input_data/\"\n",
    "TEMP_DIR=\"/data/Epigenetics_Workshop/input_data/tmp1\"\n",
    "SAMPLE_NAME=\"rep1_golden\"\n",
    "cd \"${IN_DIR}\"\n",
    "\n",
    "#No unzipping because STAR mad\n",
    "STAR --runMode alignReads \\\n",
    "     --genomeDir $IX_DIR \\\n",
    "     --outSAMtype BAM SortedByCoordinate --runThreadN 32 \\\n",
    "     --outFileNamePrefix $OUT_DIR\"/${SAMPLE_NAME}_star/\" \\\n",
    "     --outTmpDir $TEMP_DIR \\\n",
    "     --limitBAMsortRAM 25000000000 \\\n",
    "     --outWigType wiggle \\\n",
    "     --quantMode TranscriptomeSAM GeneCounts \\\n",
    "     --readFilesIn ${SAMPLE_NAME}_r1_filt.fq ${SAMPLE_NAME}_r2_filt.fq\n",
    "\n"
   ]
  },
  {
   "cell_type": "code",
   "execution_count": null,
   "id": "876328c1-4ee4-4b89-b261-8f934cc3fdcc",
   "metadata": {},
   "outputs": [],
   "source": [
    "#Flip output wig to bigwig for viz\n",
    "CHROM_SIZES=\"lonicera_japonica_rename_sizes.genome\"\n",
    "IN_DIR=\"/data/Epigenetics_Workshop/input_data/\"\n",
    "SAMPLE_NAME=\"rep1_golden\"\n",
    "\n",
    "cd \"${IN_DIR}/${SAMPLE_NAME}_star\"\n",
    "../wigToBigWig Signal.UniqueMultiple.str1.out.wig \\\n",
    "    ${IN_DIR}/${CHROM_SIZES} \\\n",
    "    ${SAMPLE_NAME}_lonicera_japonica_pos.bw\n",
    "../wigToBigWig Signal.UniqueMultiple.str2.out.wig \\\n",
    "    ${IN_DIR}/${CHROM_SIZES} \\\n",
    "    ${SAMPLE_NAME}_lonicera_japonica_neg.bw"
   ]
  },
  {
   "cell_type": "code",
   "execution_count": null,
   "id": "8e780f4d-764d-40ec-b647-b3ad2bf7df0a",
   "metadata": {},
   "outputs": [],
   "source": [
    "# Quantify using kallisto all samples\n",
    "#Quantify golden flower stage\n",
    "SAMPLE_NAME=\"rep1_golden\"\n",
    "kallisto \\\n",
    "    quant -t 8 -i lonicera_japonica_kallisto.idx \\\n",
    "    -o lonicera_japonica_${SAMPLE_NAME} --plaintext \\\n",
    "    ${SAMPLE_NAME}_r1_filt.fq.gz ${SAMPLE_NAME}_r2_filt.fq.gz\n",
    "SAMPLE_NAME=\"rep2_golden\"\n",
    "kallisto \\\n",
    "    quant -t 8 -i lonicera_japonica_kallisto.idx \\\n",
    "    -o lonicera_japonica_${SAMPLE_NAME} --plaintext \\\n",
    "    ${SAMPLE_NAME}_r1_filt.fq.gz ${SAMPLE_NAME}_r2_filt.fq.gz\n",
    "SAMPLE_NAME=\"rep3_golden\"\n",
    "kallisto \\\n",
    "    quant -t 8 -i lonicera_japonica_kallisto.idx \\\n",
    "    -o lonicera_japonica_${SAMPLE_NAME} --plaintext \\\n",
    "    ${SAMPLE_NAME}_r1_filt.fq.gz ${SAMPLE_NAME}_r2_filt.fq.gz\n",
    "\n",
    "#Quantify green bud stage\n",
    "SAMPLE_NAME=\"rep1_green\"\n",
    "kallisto \\\n",
    "    quant -t 8 -i lonicera_japonica_kallisto.idx \\\n",
    "    -o lonicera_japonica_${SAMPLE_NAME} --plaintext \\\n",
    "    ${SAMPLE_NAME}_r1_filt.fq.gz ${SAMPLE_NAME}_r2_filt.fq.gz\n",
    "SAMPLE_NAME=\"rep2_green\"\n",
    "kallisto \\\n",
    "    quant -t 8 -i lonicera_japonica_kallisto.idx \\\n",
    "    -o lonicera_japonica_${SAMPLE_NAME} --plaintext \\\n",
    "    ${SAMPLE_NAME}_r1_filt.fq.gz ${SAMPLE_NAME}_r2_filt.fq.gz\n",
    "SAMPLE_NAME=\"rep3_green\"\n",
    "kallisto \\\n",
    "    quant -t 8 -i lonicera_japonica_kallisto.idx \\\n",
    "    -o lonicera_japonica_${SAMPLE_NAME} --plaintext \\\n",
    "    ${SAMPLE_NAME}_r1_filt.fq.gz ${SAMPLE_NAME}_r2_filt.fq.gz\n",
    "\n"
   ]
  },
  {
   "cell_type": "code",
   "execution_count": null,
   "id": "a5496258-b321-4768-87a4-b28dcba007ff",
   "metadata": {},
   "outputs": [],
   "source": [
    "import pandas as pd\n",
    "import os\n",
    "# Differential expression\n",
    "#Read in abundance estimates for all samples and make count matrix\n",
    "\n",
    "in_dir = \"/data/Epigenetics_Workshop/input_data\"\n",
    "samples = [\"rep1_golden\", \n",
    "           \"rep2_golden\", \n",
    "           \"rep3_golden\", \n",
    "           \"rep1_green\", \n",
    "           \"rep2_green\", \n",
    "           \"rep3_green\"]\n",
    "sample_df_list = []\n",
    "for sample in samples:\n",
    "    sample_df = pd.read_csv(os.path.join(in_dir,f'lonicera_japonica_{sample}/abundance.tsv'), sep=\"\\t\")\n",
    "    sample_df_list.append(sample_df)\n",
    "\n",
    "sample_counts = pd.concat([\n",
    "    sample_df_list[0]['est_counts'].astype(int), \n",
    "    sample_df_list[1]['est_counts'].astype(int), \n",
    "    sample_df_list[2]['est_counts'].astype(int), \n",
    "    sample_df_list[3]['est_counts'].astype(int), \n",
    "    sample_df_list[4]['est_counts'].astype(int), \n",
    "    sample_df_list[5]['est_counts'].astype(int), \n",
    "                          ], axis=1, keys=samples)\n",
    "\n",
    "sample_counts.index=sample_df_list[0][\"target_id\"]"
   ]
  },
  {
   "cell_type": "code",
   "execution_count": null,
   "id": "7a90011f-c852-44e9-970a-fdcbcf7b7135",
   "metadata": {},
   "outputs": [],
   "source": [
    "sample_counts = sample_counts[sample_counts.sum(axis = 1) > 0]\n",
    "sample_counts"
   ]
  },
  {
   "cell_type": "code",
   "execution_count": null,
   "id": "c5c14058-6005-472e-9b30-b38dd329a184",
   "metadata": {},
   "outputs": [],
   "source": [
    "sample_counts = sample_counts.T\n",
    "metadata = pd.DataFrame(zip(sample_counts.index, ['Golden','Golden','Golden','Green', 'Green', 'Green']),\n",
    "                        columns = ['Sample', 'Condition'])\n",
    "metadata = metadata.set_index('Sample')\n",
    "metadata"
   ]
  },
  {
   "cell_type": "code",
   "execution_count": null,
   "id": "f1282c62-912f-452b-855d-261cbb7b570a",
   "metadata": {},
   "outputs": [],
   "source": [
    "from pydeseq2.dds import DeseqDataSet\n",
    "from pydeseq2.ds import DeseqStats\n",
    "\n",
    "dds = DeseqDataSet(counts=sample_counts,\n",
    "            metadata=metadata,\n",
    "            design_factors=\"Condition\")\n",
    "\n"
   ]
  },
  {
   "cell_type": "code",
   "execution_count": null,
   "id": "16a881b3-be0a-48a7-9ab8-2b1dae256c3d",
   "metadata": {},
   "outputs": [],
   "source": [
    "\n",
    "dds.deseq2()"
   ]
  },
  {
   "cell_type": "code",
   "execution_count": null,
   "id": "ec2cba1d-6b32-4902-af63-bf3323483eac",
   "metadata": {},
   "outputs": [],
   "source": [
    "from pydeseq2.default_inference import DefaultInference\n",
    "inference = DefaultInference(n_cpus=8)\n",
    "stat_res = DeseqStats(dds, inference=inference, contrast = ('Condition','Golden','Green'))\n",
    "stat_res.summary()\n"
   ]
  },
  {
   "cell_type": "code",
   "execution_count": null,
   "id": "afd5506e-d34b-47be-8d98-2b11b287ecb3",
   "metadata": {},
   "outputs": [],
   "source": [
    "res = stat_res.results_df\n",
    "res"
   ]
  },
  {
   "cell_type": "code",
   "execution_count": null,
   "id": "4b05ffa8-58ca-4e0c-9b6b-fc93527e9f49",
   "metadata": {},
   "outputs": [],
   "source": [
    "res = res[res.baseMean >= 10]\n",
    "res"
   ]
  },
  {
   "cell_type": "code",
   "execution_count": null,
   "id": "d78a5881-48f7-4369-8656-e723fd132a94",
   "metadata": {},
   "outputs": [],
   "source": [
    "sigs = res[(res.padj < 0.005) & (abs(res.log2FoldChange) > 2)]\n",
    "sigs"
   ]
  },
  {
   "cell_type": "code",
   "execution_count": null,
   "id": "1c996a70-52b2-4b01-a83a-8c1561924389",
   "metadata": {},
   "outputs": [],
   "source": [
    "sigs.iloc[1:10].index"
   ]
  },
  {
   "cell_type": "code",
   "execution_count": null,
   "id": "65684495-3af0-469f-a61a-25c94339639a",
   "metadata": {},
   "outputs": [],
   "source": [
    "sigs.iloc[1].name.split(\".\")[0]"
   ]
  },
  {
   "cell_type": "code",
   "execution_count": null,
   "id": "5ea18b82-232c-4b0c-9ab7-26178b4df08b",
   "metadata": {},
   "outputs": [],
   "source": [
    "%%bash\n",
    "\n",
    "#See what annotations exist\n",
    "grep \"EVM0011999.1\" \"../input_data/lonicera_japonica_pep_annotation.txt\"\n",
    "grep \"EVM0018585.2\" \"../input_data/lonicera_japonica_pep_annotation.txt\"\n",
    "grep \"EVM0009674.1\" \"../input_data/lonicera_japonica_pep_annotation.txt\"\n",
    "grep \"EVM0010779.2\" \"../input_data/lonicera_japonica_pep_annotation.txt\"\n",
    "\n"
   ]
  },
  {
   "cell_type": "markdown",
   "id": "70f48e21-0d3c-4690-b941-c88da41474a4",
   "metadata": {
    "jp-MarkdownHeadingCollapsed": true
   },
   "source": [
    "# Places to go from here:\n",
    "\n",
    "https://github.com/mousepixels/sanbomics_scripts/blob/main/PyDeseq2_DE_tutorial.ipynb"
   ]
  }
 ],
 "metadata": {
  "kernelspec": {
   "display_name": "Python 3 (ipykernel)",
   "language": "python",
   "name": "python3"
  },
  "language_info": {
   "codemirror_mode": {
    "name": "ipython",
    "version": 3
   },
   "file_extension": ".py",
   "mimetype": "text/x-python",
   "name": "python",
   "nbconvert_exporter": "python",
   "pygments_lexer": "ipython3",
   "version": "3.12.3"
  }
 },
 "nbformat": 4,
 "nbformat_minor": 5
}
