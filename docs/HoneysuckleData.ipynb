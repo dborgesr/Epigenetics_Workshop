{
 "cells": [
  {
   "cell_type": "markdown",
   "id": "78aabc24-756a-4320-a38f-cd41ac43952b",
   "metadata": {},
   "source": [
    "# Get main genome\n",
    "\n",
    "1. [Chromosome-scale genome assembly of an important medicinal plant honeysuckle](https://www.nature.com/articles/s41597-022-01385-4)\n",
    "Best genome it seems, contains genome fasta, gene annotations, rna fasta, and protein fa.\n",
    "[Attachments from above paper](https://figshare.com/articles/online_resource/honeysuckle_genome_final_gene_gff3/18092708/6?file=34639925)\n",
    "\n",
    "2. [The honeysuckle genome provides insight into the molecular mechanism of carotenoid metabolism underlying dynamic flower coloration](https://nph.onlinelibrary.wiley.com/doi/10.1111/nph.16552)\n",
    "\n",
    "3. [Epigenetic changes in the regulation of carotenoid metabolism during honeysuckle flower development](https://www.sciencedirect.com/science/article/pii/S2468014122001352)\n",
    "\n"
   ]
  },
  {
   "cell_type": "code",
   "execution_count": null,
   "id": "e49c334c-7963-4c58-a33b-554c6e3938d7",
   "metadata": {},
   "outputs": [],
   "source": [
    "%%bash\n",
    "# Grab the genome and gene annotations from 1\n",
    "wget -O lonicera_japonica_genome.fa.gz https://ftp.ncbi.nlm.nih.gov/genomes/all/GCA/021/464/415/GCA_021464415.1_ASM2146441v1/GCA_021464415.1_ASM2146441v1_genomic.fna.gz\n",
    "wget -O lonicera_japonica_genes.gff3 https://figshare.com/ndownloader/files/32821655\n",
    "wget -O lonicera_japonica_trans_pep.fa https://figshare.com/ndownloader/files/34632194\n",
    "wget -O lonicera_japonica_repeats.gff3 https://figshare.com/ndownloader/files/34639925\n",
    "wget -O lonicera_japonica_pep_annotation.txt https://figshare.com/ndownloader/files/34631303\n"
   ]
  },
  {
   "cell_type": "code",
   "execution_count": null,
   "id": "f4659aad-9f34-400c-869c-0b890c505af4",
   "metadata": {},
   "outputs": [],
   "source": [
    "# Massaging / munging of the reference files -_-\n",
    "\n",
    "#Rename ncbi headers because not matching gene annotation\n",
    "seqkit replace -p \".+Sijihua \"  lonicera_japonica_genome.fa  | \\\n",
    "    seqkit replace -p \"chromosome \" -r \"Chr0\" | \\\n",
    "    seqkit replace -p \",.+\" > lonicera_japonica_rename_genome.fa\n",
    "\n",
    "#Using AGAT to make cDNA from genome fasta and gene models\n",
    "agat_sp_extract_sequences.pl \\\n",
    "    -g lonicera_japonica_genes.gff3 \\\n",
    "    -f lonicera_japonica_rename_genome.fa \\\n",
    "    --cdna -t exon --merge > lonicera_japonica_cdna.fa\n"
   ]
  },
  {
   "cell_type": "code",
   "execution_count": null,
   "id": "267d6bbd-a008-4dc4-b5e8-4bd24d78190f",
   "metadata": {},
   "outputs": [],
   "source": [
    "# Grab some long-read PacBio data from 1 \n",
    "wget -O lonicera_japonica_pacbio_dna_SRR17509642.fq.gz \\\n",
    "    ftp://ftp.sra.ebi.ac.uk/vol1/fastq/SRR175/042/SRR17509642/SRR17509642_subreads.fastq.gz\n"
   ]
  },
  {
   "cell_type": "code",
   "execution_count": null,
   "id": "f3cc8dd6-2d45-4d46-bf21-69c6beb03cd3",
   "metadata": {},
   "outputs": [],
   "source": [
    "#make minimap2 ref\n",
    "IN_FOLDER=\"/data/Epigenetics_Workshop/input_data/\"\n",
    "mkdir -p ${IN_FOLDER}/lonicera_japonica_mm2\n",
    "minimap2 -d${IN_FOLDER}/lonicera_japonica_mm2/ref.mmi \\\n",
    "    ${IN_FOLDER}/lonicera_japonica_rename_genome.fa\n"
   ]
  },
  {
   "cell_type": "code",
   "execution_count": null,
   "id": "3d702195-56f0-4971-9394-11e0f8b71b55",
   "metadata": {},
   "outputs": [],
   "source": [
    "SAMPLE_NAME=\"lonicera_japonica_pacbio_dna_SRR17509642\"\n",
    "IN_FOLDER=\"/data/Epigenetics_Workshop/input_data/\"\n",
    "OUT_FOLDER=\"/data/Epigenetics_Workshop/input_data/\"\n",
    "#Disabling quality filtering because pacbio \n",
    "fastp -w 16 -Q -i ${IN_FOLDER}/${SAMPLE_NAME}.fq.gz \\\n",
    "      -o ${OUT_FOLDER}/${SAMPLE_NAME}_filt.fq.gz \\\n",
    "      -h ${OUT_FOLDER}/${SAMPLE_NAME}_filt.html \\\n",
    "      -j ${OUT_FOLDER}/${SAMPLE_NAME}_filt.json \n"
   ]
  },
  {
   "cell_type": "code",
   "execution_count": null,
   "id": "be72fbed-93d9-4d6c-8dba-01779c351c16",
   "metadata": {},
   "outputs": [],
   "source": [
    "IX_DIR=\"/data/Epigenetics_Workshop/input_data/lonicera_japonica_mm2/ref.mmi\"\n",
    "IN_DIR=\"/data/Epigenetics_Workshop/input_data/\"\n",
    "OUT_DIR=\"/data/Epigenetics_Workshop/input_data/\"\n",
    "TEMP_DIR=\"/data/Epigenetics_Workshop/input_data/tmp1\"\n",
    "SAMPLE_NAME=\"lonicera_japonica_pacbio_dna_SRR17509642\"\n",
    "cd \"${IN_DIR}\"\n",
    "\n",
    "#Map using minimap2 w/ pacbio hifi params and sort bam for viz\n",
    "minimap2 -t 16 -ax map-hifi \\\n",
    "            ${IX_DIR} \\\n",
    "            ${IN_DIR}/${SAMPLE_NAME}_filt.fq.gz | \\\n",
    "            samtools sort  -T ${TEMP_DIR} -@ 8 - | \\\n",
    "            samtools view -hbS - > ${OUT_DIR}/${SAMPLE_NAME}_mm_cordSorted.bam\n",
    "samtools index ${OUT_DIR}/${SAMPLE_NAME}_mm_cordSorted.bam\n"
   ]
  },
  {
   "cell_type": "code",
   "execution_count": null,
   "id": "d84f5c5e-f1dc-4721-b0e3-ea8b2c1d359c",
   "metadata": {},
   "outputs": [],
   "source": [
    "%%bash\n",
    "# Generate kallisto reference using cDNA\n",
    "kallisto index -i lonicera_japonica_kallisto.idx  lonicera_japonica_cdna.fa\n"
   ]
  },
  {
   "cell_type": "code",
   "execution_count": null,
   "id": "4e5d3057-1848-4f45-b845-ff5099ef50ff",
   "metadata": {},
   "outputs": [],
   "source": [
    "#Get some RNA-seq from 2 RNA-seq in PRJNA813701\n",
    "#Green third stage (SRX14408209,SRX14408210,SRX14408211)\n",
    "wget -O rep1_green_r1.fq.gz  ftp://ftp.sra.ebi.ac.uk/vol1/fastq/SRR182/018/SRR18269918/SRR18269918_1.fastq.gz\n",
    "wget -O rep1_green_r2.fq.gz  ftp://ftp.sra.ebi.ac.uk/vol1/fastq/SRR182/018/SRR18269918/SRR18269918_2.fastq.gz\n",
    "wget -O rep2_green_r1.fq.gz  ftp://ftp.sra.ebi.ac.uk/vol1/fastq/SRR182/017/SRR18269917/SRR18269917_1.fastq.gz\n",
    "wget -O rep2_green_r2.fq.gz  ftp://ftp.sra.ebi.ac.uk/vol1/fastq/SRR182/017/SRR18269917/SRR18269917_1.fastq.gz\n",
    "wget -O rep3_green_r1.fq.gz  ftp://ftp.sra.ebi.ac.uk/vol1/fastq/SRR182/016/SRR18269916/SRR18269916_1.fastq.gz\n",
    "wget -O rep3_green_r2.fq.gz  ftp://ftp.sra.ebi.ac.uk/vol1/fastq/SRR182/016/SRR18269916/SRR18269916_1.fastq.gz\n",
    "\n",
    "#Golder flower stage (SRX14408205,SRX14408206,SRX14408207) \n",
    "wget -O rep1_golden_r1.fq.gz  ftp://ftp.sra.ebi.ac.uk/vol1/fastq/SRR182/022/SRR18269922/SRR18269922_1.fastq.gz\n",
    "wget -O rep1_golden_r2.fq.gz  ftp://ftp.sra.ebi.ac.uk/vol1/fastq/SRR182/022/SRR18269922/SRR18269922_2.fastq.gz\n",
    "wget -O rep2_golden_r1.fq.gz  ftp://ftp.sra.ebi.ac.uk/vol1/fastq/SRR182/021/SRR18269921/SRR18269921_1.fastq.gz\n",
    "wget -O rep2_golden_r2.fq.gz  ftp://ftp.sra.ebi.ac.uk/vol1/fastq/SRR182/021/SRR18269921/SRR18269921_2.fastq.gz\n",
    "wget -O rep3_golden_r1.fq.gz  ftp://ftp.sra.ebi.ac.uk/vol1/fastq/SRR182/020/SRR18269920/SRR18269920_1.fastq.gz\n",
    "wget -O rep3_golden_r2.fq.gz  ftp://ftp.sra.ebi.ac.uk/vol1/fastq/SRR182/020/SRR18269920/SRR18269920_2.fastq.gz\n",
    "\n"
   ]
  },
  {
   "cell_type": "code",
   "execution_count": null,
   "id": "5441b27f-53db-4c48-bdb4-6ccc9c1431d2",
   "metadata": {},
   "outputs": [],
   "source": [
    "SAMPLE_NAME=\"rep1_golden\"\n",
    "IN_FOLDER=\"/data/Epigenetics_Workshop/input_data/\"\n",
    "OUT_FOLDER=\"/data/Epigenetics_Workshop/input_data/\"\n",
    "# Output in fq because for whatever ERE*(*F reason STAR can't deal w/ zcat in NTFS windows drives\n",
    "fastp -w 16 -i ${IN_FOLDER}/${SAMPLE_NAME}_r1.fq.gz \\\n",
    "      -I ${IN_FOLDER}/${SAMPLE_NAME}_r2.fq.gz \\\n",
    "      -o ${OUT_FOLDER}/${SAMPLE_NAME}_r1_filt.fq \\\n",
    "      -O ${OUT_FOLDER}/${SAMPLE_NAME}_r2_filt.fq \\\n",
    "      -h ${OUT_FOLDER}/${SAMPLE_NAME}_filt.html \\\n",
    "      -j ${OUT_FOLDER}/${SAMPLE_NAME}_filt.json \n",
    "#One sample non-gz others yes because only kallisto\n",
    "SAMPLE_NAME=\"rep2_golden\"\n",
    "fastp -w 16 -i ${IN_FOLDER}/${SAMPLE_NAME}_r1.fq.gz \\\n",
    "      -I ${IN_FOLDER}/${SAMPLE_NAME}_r2.fq.gz \\\n",
    "      -o ${OUT_FOLDER}/${SAMPLE_NAME}_r1_filt.fq.gz \\\n",
    "      -O ${OUT_FOLDER}/${SAMPLE_NAME}_r2_filt.fq.gz \\\n",
    "      -h ${OUT_FOLDER}/${SAMPLE_NAME}_filt.html \\\n",
    "      -j ${OUT_FOLDER}/${SAMPLE_NAME}_filt.json \n",
    "SAMPLE_NAME=\"rep3_golden\"\n",
    "fastp -w 16 -i ${IN_FOLDER}/${SAMPLE_NAME}_r1.fq.gz \\\n",
    "      -I ${IN_FOLDER}/${SAMPLE_NAME}_r2.fq.gz \\\n",
    "      -o ${OUT_FOLDER}/${SAMPLE_NAME}_r1_filt.fq.gz \\\n",
    "      -O ${OUT_FOLDER}/${SAMPLE_NAME}_r2_filt.fq.gz \\\n",
    "      -h ${OUT_FOLDER}/${SAMPLE_NAME}_filt.html \\\n",
    "      -j ${OUT_FOLDER}/${SAMPLE_NAME}_filt.json \n",
    "#Green side\n",
    "SAMPLE_NAME=\"rep1_green\"\n",
    "fastp -w 16 -i ${IN_FOLDER}/${SAMPLE_NAME}_r1.fq.gz \\\n",
    "      -I ${IN_FOLDER}/${SAMPLE_NAME}_r2.fq.gz \\\n",
    "      -o ${OUT_FOLDER}/${SAMPLE_NAME}_r1_filt.fq.gz \\\n",
    "      -O ${OUT_FOLDER}/${SAMPLE_NAME}_r2_filt.fq.gz \\\n",
    "      -h ${OUT_FOLDER}/${SAMPLE_NAME}_filt.html \\\n",
    "      -j ${OUT_FOLDER}/${SAMPLE_NAME}_filt.json \n",
    "SAMPLE_NAME=\"rep2_green\"\n",
    "fastp -w 16 -i ${IN_FOLDER}/${SAMPLE_NAME}_r1.fq.gz \\\n",
    "      -I ${IN_FOLDER}/${SAMPLE_NAME}_r2.fq.gz \\\n",
    "      -o ${OUT_FOLDER}/${SAMPLE_NAME}_r1_filt.fq.gz \\\n",
    "      -O ${OUT_FOLDER}/${SAMPLE_NAME}_r2_filt.fq.gz \\\n",
    "      -h ${OUT_FOLDER}/${SAMPLE_NAME}_filt.html \\\n",
    "      -j ${OUT_FOLDER}/${SAMPLE_NAME}_filt.json \n",
    "SAMPLE_NAME=\"rep3_green\"\n",
    "fastp -w 16 -i ${IN_FOLDER}/${SAMPLE_NAME}_r1.fq.gz \\\n",
    "      -I ${IN_FOLDER}/${SAMPLE_NAME}_r2.fq.gz \\\n",
    "      -o ${OUT_FOLDER}/${SAMPLE_NAME}_r1_filt.fq.gz \\\n",
    "      -O ${OUT_FOLDER}/${SAMPLE_NAME}_r2_filt.fq.gz \\\n",
    "      -h ${OUT_FOLDER}/${SAMPLE_NAME}_filt.html \\\n",
    "      -j ${OUT_FOLDER}/${SAMPLE_NAME}_filt.json \n"
   ]
  },
  {
   "cell_type": "code",
   "execution_count": null,
   "id": "c68e80ec-ceab-4834-b884-cc1199d09a65",
   "metadata": {},
   "outputs": [],
   "source": [
    "%%bash\n",
    "\n",
    "#Make STAR reference\n",
    "STAR --runThreadN 16 \\\n",
    "     --runMode genomeGenerate --outTmpDir /data/Epigenetics_Workshop/input_data/tmp_star \\\n",
    "     --genomeDir /data/Epigenetics_Workshop/input_data/lonicera_japonica_star \\\n",
    "     --genomeFastaFiles /data/Epigenetics_Workshop/input_data/lonicera_japonica_rename_genome.fa \\\n",
    "     --sjdbGTFfile /data/Epigenetics_Workshop/input_data/lonicera_japonica_genes.gff3 \\\n",
    "     --sjdbOverhang 149 --limitGenomeGenerateRAM 30000000000 --genomeSAindexNbases 12\n",
    "\n"
   ]
  },
  {
   "cell_type": "code",
   "execution_count": null,
   "id": "645dce8a-793f-433c-b866-8bceff46ee08",
   "metadata": {},
   "outputs": [],
   "source": [
    "#Align reads to transcriptome using STAR for one sample to viz\n",
    "IX_DIR=\"/data/Epigenetics_Workshop/input_data/lonicera_japonica_star\"\n",
    "IN_DIR=\"/data/Epigenetics_Workshop/input_data/\"\n",
    "OUT_DIR=\"/data/Epigenetics_Workshop/input_data/\"\n",
    "TEMP_DIR=\"/data/Epigenetics_Workshop/input_data/tmp1\"\n",
    "SAMPLE_NAME=\"rep1_golden\"\n",
    "cd \"${IN_DIR}\"\n",
    "\n",
    "#No unzipping because STAR mad\n",
    "STAR --runMode alignReads \\\n",
    "     --genomeDir $IX_DIR \\\n",
    "     --outSAMtype BAM SortedByCoordinate --runThreadN 32 \\\n",
    "     --outFileNamePrefix $OUT_DIR\"/${SAMPLE_NAME}/\" \\\n",
    "     --outTmpDir $TEMP_DIR \\\n",
    "     --limitBAMsortRAM 25000000000 \\\n",
    "     --outWigType wiggle \\\n",
    "     --quantMode TranscriptomeSAM GeneCounts \\\n",
    "     --readFilesIn ${SAMPLE_NAME}_r1_filt.fq ${SAMPLE_NAME}_r2_filt.fq\n",
    "\n"
   ]
  },
  {
   "cell_type": "code",
   "execution_count": null,
   "id": "8e780f4d-764d-40ec-b647-b3ad2bf7df0a",
   "metadata": {},
   "outputs": [],
   "source": [
    "# Quantify using kallisto all samples\n",
    "#Quantify golden flower stage\n",
    "SAMPLE_NAME=\"rep1_golden\"\n",
    "/opt/conda/lib/python3.12/site-packages/kb_python/bins/linux/kallisto/kallisto \\\n",
    "    quant -t 8 -i lonicera_japonica_kallisto.idx \\\n",
    "    -o lonicera_japonica_${SAMPLE_NAME} \\\n",
    "    ${SAMPLE_NAME}_r1_filt.fq.gz ${SAMPLE_NAME}_r2_filt.fq.gz\n",
    "SAMPLE_NAME=\"rep2_golden\"\n",
    "/opt/conda/lib/python3.12/site-packages/kb_python/bins/linux/kallisto/kallisto \\\n",
    "    quant -t 8 -i lonicera_japonica_kallisto.idx \\\n",
    "    -o lonicera_japonica_${SAMPLE_NAME} \\\n",
    "    ${SAMPLE_NAME}_r1_filt.fq.gz ${SAMPLE_NAME}_r2_filt.fq.gz\n",
    "SAMPLE_NAME=\"rep3_golden\"\n",
    "/opt/conda/lib/python3.12/site-packages/kb_python/bins/linux/kallisto/kallisto \\\n",
    "    quant -t 8 -i lonicera_japonica_kallisto.idx \\\n",
    "    -o lonicera_japonica_${SAMPLE_NAME} \\\n",
    "    ${SAMPLE_NAME}_r1_filt.fq.gz ${SAMPLE_NAME}_r2_filt.fq.gz\n",
    "\n",
    "#Quantify green bud stage\n",
    "SAMPLE_NAME=\"rep1_green\"\n",
    "/opt/conda/lib/python3.12/site-packages/kb_python/bins/linux/kallisto/kallisto \\\n",
    "    quant -t 8 -i lonicera_japonica_kallisto.idx \\\n",
    "    -o lonicera_japonica_${SAMPLE_NAME} \\\n",
    "    ${SAMPLE_NAME}_r1_filt.fq.gz ${SAMPLE_NAME}_r2_filt.fq.gz\n",
    "SAMPLE_NAME=\"rep2_green\"\n",
    "/opt/conda/lib/python3.12/site-packages/kb_python/bins/linux/kallisto/kallisto \\\n",
    "    quant -t 8 -i lonicera_japonica_kallisto.idx \\\n",
    "    -o lonicera_japonica_${SAMPLE_NAME} \\\n",
    "    ${SAMPLE_NAME}_r1_filt.fq.gz ${SAMPLE_NAME}_r2_filt.fq.gz\n",
    "SAMPLE_NAME=\"rep3_green\"\n",
    "/opt/conda/lib/python3.12/site-packages/kb_python/bins/linux/kallisto/kallisto \\\n",
    "    quant -t 8 -i lonicera_japonica_kallisto.idx \\\n",
    "    -o lonicera_japonica_${SAMPLE_NAME} \\\n",
    "    ${SAMPLE_NAME}_r1_filt.fq.gz ${SAMPLE_NAME}_r2_filt.fq.gz\n",
    "\n"
   ]
  },
  {
   "cell_type": "code",
   "execution_count": null,
   "id": "a5496258-b321-4768-87a4-b28dcba007ff",
   "metadata": {},
   "outputs": [],
   "source": [
    "# Differential expression to show caretonoid upregulation\n",
    "import anndata\n",
    "sample1 = anndata.read_h5ad('lonicera_japonica_rep1_golden/adata.h5ad')\n",
    "sample2 = anndata.read_h5ad('lonicera_japonica_rep2_golen/adata.h5ad')\n",
    "\n",
    "concat_samples = sample1.concatenate(\n",
    "    sample2, join='outer', batch_categories=['sample1', 'sample2'], index_unique='-'\n",
    ")"
   ]
  }
 ],
 "metadata": {
  "kernelspec": {
   "display_name": "Python 3 (ipykernel)",
   "language": "python",
   "name": "python3"
  },
  "language_info": {
   "codemirror_mode": {
    "name": "ipython",
    "version": 3
   },
   "file_extension": ".py",
   "mimetype": "text/x-python",
   "name": "python",
   "nbconvert_exporter": "python",
   "pygments_lexer": "ipython3",
   "version": "3.12.5"
  }
 },
 "nbformat": 4,
 "nbformat_minor": 5
}
